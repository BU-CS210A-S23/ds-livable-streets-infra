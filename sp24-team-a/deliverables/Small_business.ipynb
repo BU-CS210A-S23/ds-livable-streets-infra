{
 "cells": [
  {
   "cell_type": "markdown",
   "metadata": {},
   "source": [
    "${\\Large\\bf \\text{The effects of Bike Infastructure on Small Bussiness; Methodology+ Code}}$"
   ]
  },
  {
   "cell_type": "code",
   "execution_count": 4,
   "metadata": {},
   "outputs": [],
   "source": [
    "import pandas as pd\n",
    "\n",
    "\n",
    "Bussiness = pd.read_csv('../data/Bussineses.csv')\n",
    "\n",
    "\n",
    "#This is how I parsed Through all the Bussinesses to find the small bussiness\n",
    "\n",
    "Bussiness = Bussiness[(Bussiness['small_local_cert'] == 'SBE') | (Bussiness['small_local_cert'] == 'SLBE')]\n",
    "\n",
    "#save this data\n",
    "Bussiness.to_csv('Small_Bussinesses.csv', index=False)\n",
    "\n",
    "\n"
   ]
  }
 ],
 "metadata": {
  "kernelspec": {
   "display_name": "Python 3",
   "language": "python",
   "name": "python3"
  },
  "language_info": {
   "codemirror_mode": {
    "name": "ipython",
    "version": 3
   },
   "file_extension": ".py",
   "mimetype": "text/x-python",
   "name": "python",
   "nbconvert_exporter": "python",
   "pygments_lexer": "ipython3",
   "version": "3.11.0"
  }
 },
 "nbformat": 4,
 "nbformat_minor": 2
}
