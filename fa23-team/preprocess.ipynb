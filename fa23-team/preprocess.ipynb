{
 "cells": [
  {
   "cell_type": "markdown",
   "source": [
    "# Livable Streets: Bike Infrastructure & Displacement\n",
    "## Project Deliverable 1\n",
    "\n",
    "#### Siddharth Bookinkere, Alexander Heger, Kwan Wing Tuet, Raviv Zait"
   ],
   "metadata": {
    "collapsed": false
   }
  },
  {
   "cell_type": "markdown",
   "source": [
    "## Clone repository"
   ],
   "metadata": {
    "collapsed": false
   }
  },
  {
   "cell_type": "code",
   "execution_count": 22,
   "metadata": {
    "collapsed": true
   },
   "outputs": [
    {
     "name": "stderr",
     "output_type": "stream",
     "text": [
      "fatal: destination path 'ds-livable-streets-infra' already exists and is not an empty directory.\n"
     ]
    }
   ],
   "source": [
    "!git clone https://github.com/BU-Spark/ds-livable-streets-infra.git"
   ]
  },
  {
   "cell_type": "markdown",
   "source": [
    "## Collect and Pre-process Census and Bike Data"
   ],
   "metadata": {
    "collapsed": false
   }
  },
  {
   "cell_type": "markdown",
   "source": [
    "### Read data"
   ],
   "metadata": {
    "collapsed": false
   }
  },
  {
   "cell_type": "code",
   "execution_count": 23,
   "outputs": [
    {
     "name": "stdout",
     "output_type": "stream",
     "text": [
      "Demographic and property value data shape:  (564, 16)\n",
      "Income and house ownership data shape:  (606, 17)\n",
      "Bike infrastructure data shape:  (675, 12)\n"
     ]
    }
   ],
   "source": [
    "import pandas as pd\n",
    "import numpy as np\n",
    "import os\n",
    "\n",
    "# Set the current working directory to the root of the repository\n",
    "os.chdir(\"C:/Users/Alex H/OneDrive/Documents/BU Fall 2023/DS701/ds-livable-streets-infra/\")\n",
    "\n",
    "# Customize data folder\n",
    "data_folder = \"fa23-team/data/\"\n",
    "\n",
    "# Read demographic and property value data\n",
    "combined_demo_prop = pd.read_csv(data_folder + \"combined_demo_prop.csv\", index_col=False)\n",
    "print(\"Demographic and property value data shape: \", combined_demo_prop.shape)\n",
    "\n",
    "# Read income and house ownership data\n",
    "combined_income_owner = pd.read_csv(data_folder+\"income_houseownership.csv\", index_col=False)\n",
    "print(\"Income and house ownership data shape: \",combined_income_owner.shape)\n",
    "\n",
    "# Read bike infrastructure data\n",
    "bike_data = pd.read_csv(data_folder + \"roxbury_dorchester_bike_data.csv\", index_col=False)\n",
    "print(\"Bike infrastructure data shape: \", bike_data.shape)"
   ],
   "metadata": {
    "collapsed": false
   }
  },
  {
   "cell_type": "markdown",
   "source": [
    "### Clean Income and House Ownership Data"
   ],
   "metadata": {
    "collapsed": false
   }
  },
  {
   "cell_type": "code",
   "execution_count": 24,
   "outputs": [
    {
     "name": "stdout",
     "output_type": "stream",
     "text": [
      "(606, 15)\n"
     ]
    }
   ],
   "source": [
    "# Drop diff columns\n",
    "combined_income_owner.drop([\"median_income_difference\", \"mean_income_difference\"], axis=1,\n",
    "                           inplace=True)\n",
    "\n",
    "# Rename columns\n",
    "combined_income_owner.columns = [\"year\", \"median_income\", \"mean_income\", \"tract\", \"housed_population\", \"owner_occupied\", \"owner_occupied_pre-2000\", \"renter_occupied\", \"renter_occupied_pre-2000\", \"percent_owners\", \"percent_renters\", \"percent_owners_pre-2000\", \"percent_renters_pre-2000\", \"owners_renters_ratio\", \"renters_owners_pre-2000_ratio\"]\n",
    "\n",
    "# Reorder columns\n",
    "leading_cols = ['tract', 'year']\n",
    "combined_income_owner = combined_income_owner[leading_cols + [col for col in combined_income_owner.columns if col not in leading_cols]]\n",
    "\n",
    "print(combined_income_owner.shape)"
   ],
   "metadata": {
    "collapsed": false
   }
  },
  {
   "cell_type": "code",
   "execution_count": 25,
   "outputs": [
    {
     "data": {
      "text/plain": "47"
     },
     "execution_count": 25,
     "metadata": {},
     "output_type": "execute_result"
    }
   ],
   "source": [
    "# Drop redundant tracts\n",
    "drop_tracts = [708.00, 708.01, 709.00, 709.01, 813.00, 1103.03]\n",
    "\n",
    "combined_income_owner = combined_income_owner[~combined_income_owner['tract'].isin(drop_tracts)]\n",
    "combined_income_owner.tract.nunique()"
   ],
   "metadata": {
    "collapsed": false
   }
  },
  {
   "cell_type": "code",
   "execution_count": 26,
   "outputs": [],
   "source": [
    "# Revert to 2010 tract names\n",
    "combined_income_owner = combined_income_owner.replace(813.02, 813.00)\n",
    "combined_income_owner = combined_income_owner.replace(1101.05, 1101.03)"
   ],
   "metadata": {
    "collapsed": false
   }
  },
  {
   "cell_type": "markdown",
   "source": [
    "### Clean Bike Data"
   ],
   "metadata": {
    "collapsed": false
   }
  },
  {
   "cell_type": "code",
   "execution_count": 27,
   "outputs": [],
   "source": [
    "# Remove index column\n",
    "bike_data = bike_data.drop(\"Unnamed: 0\", axis=1)\n",
    "\n",
    "# Make tract a string\n",
    "bike_data.tract = bike_data.tract.astype(str)\n",
    "bike_data.tract = bike_data.tract.str.replace(r'\\.0$', '', regex=True)"
   ],
   "metadata": {
    "collapsed": false
   }
  },
  {
   "cell_type": "markdown",
   "source": [
    "### Merge Census Data"
   ],
   "metadata": {
    "collapsed": false
   }
  },
  {
   "cell_type": "code",
   "execution_count": 28,
   "outputs": [],
   "source": [
    "# Make tract a string\n",
    "combined_income_owner.tract = combined_income_owner.tract.astype(str)\n",
    "combined_demo_prop.tract = combined_demo_prop.tract.astype(str)"
   ],
   "metadata": {
    "collapsed": false
   }
  },
  {
   "cell_type": "code",
   "execution_count": 29,
   "outputs": [
    {
     "data": {
      "text/plain": "(564, 29)"
     },
     "execution_count": 29,
     "metadata": {},
     "output_type": "execute_result"
    }
   ],
   "source": [
    "# Combine Census Data\n",
    "census = pd.merge(combined_demo_prop, combined_income_owner, on=[\"tract\", \"year\"])\n",
    "census = census.sort_values(['tract', 'year'])\n",
    "census.shape"
   ],
   "metadata": {
    "collapsed": false
   }
  },
  {
   "cell_type": "code",
   "execution_count": 30,
   "outputs": [],
   "source": [
    "# Remove trailing \".0\" in string tracts\n",
    "census.tract = census.tract.str.replace(r'\\.0$', '', regex=True)"
   ],
   "metadata": {
    "collapsed": false
   }
  },
  {
   "cell_type": "code",
   "execution_count": 31,
   "outputs": [],
   "source": [
    "# Generate lists of tracts in neighborhoods for later labeling\n",
    "dorchester = [\"901\", \"902\", \"903\", \"904\", \"906\", \"907\", \"909.01\",\n",
    "              \"910.01\", \"911\", \"912\", \"913\", \"914\", \"915\", \"916\",\n",
    "              \"917\", \"918\", \"919\", \"920\", \"921.01\", \"922\", \"923\",\n",
    "              \"924\", \"1001\", \"1002\", \"1003\", \"1004\", \"1005\", \"1006.01\",\n",
    "              \"1006.03\", \"1007\", \"1008\"]\n",
    "roxbury = [\"801\", \"803\", \"804.01\", \"805\", \"806.01\", \"813\", \"814\",\n",
    "           \"815\", \"817\", \"818\", \"819\", \"820\", \"821\"]\n",
    "jp = [\"1201.04\", \"1202.01\", \"1101.03\"]"
   ],
   "metadata": {
    "collapsed": false
   }
  },
  {
   "cell_type": "markdown",
   "source": [
    "### Merge Census and Bike Infrastructure Data"
   ],
   "metadata": {
    "collapsed": false
   }
  },
  {
   "cell_type": "code",
   "execution_count": 32,
   "outputs": [
    {
     "data": {
      "text/plain": "['709']"
     },
     "execution_count": 32,
     "metadata": {},
     "output_type": "execute_result"
    }
   ],
   "source": [
    "# ID tracts in bike_data that are not in census\n",
    "rogue_tracts = [i for i in bike_data.tract.unique() if i not in census.tract.unique()]\n",
    "rogue_tracts"
   ],
   "metadata": {
    "collapsed": false
   }
  },
  {
   "cell_type": "code",
   "execution_count": 33,
   "outputs": [
    {
     "data": {
      "text/plain": "(660, 11)"
     },
     "execution_count": 33,
     "metadata": {},
     "output_type": "execute_result"
    }
   ],
   "source": [
    "# Remove rogue tracts\n",
    "bike_data = bike_data[~bike_data['tract'].isin(rogue_tracts)]\n",
    "bike_data.shape"
   ],
   "metadata": {
    "collapsed": false
   }
  },
  {
   "cell_type": "code",
   "execution_count": 34,
   "outputs": [
    {
     "data": {
      "text/plain": "(696, 38)"
     },
     "execution_count": 34,
     "metadata": {},
     "output_type": "execute_result"
    }
   ],
   "source": [
    "# Merge census and bike data\n",
    "census_bike = pd.merge(census, bike_data, on=['tract', 'year'], how=\"outer\")\n",
    "\n",
    "census_bike.shape"
   ],
   "metadata": {
    "collapsed": false
   }
  },
  {
   "cell_type": "code",
   "execution_count": 35,
   "outputs": [
    {
     "name": "stdout",
     "output_type": "stream",
     "text": [
      "<class 'pandas.core.frame.DataFrame'>\n",
      "Int64Index: 696 entries, 0 to 695\n",
      "Data columns (total 38 columns):\n",
      " #   Column                         Non-Null Count  Dtype  \n",
      "---  ------                         --------------  -----  \n",
      " 0   tract                          696 non-null    object \n",
      " 1   year                           696 non-null    int64  \n",
      " 2   total_population               564 non-null    float64\n",
      " 3   male                           564 non-null    float64\n",
      " 4   female                         564 non-null    float64\n",
      " 5   median_age                     564 non-null    float64\n",
      " 6   race_white                     564 non-null    float64\n",
      " 7   race_black                     564 non-null    float64\n",
      " 8   race_ai_alaskan                564 non-null    float64\n",
      " 9   race_asian                     564 non-null    float64\n",
      " 10  race_hawaiian                  564 non-null    float64\n",
      " 11  race_other                     564 non-null    float64\n",
      " 12  race_hispanic                  564 non-null    float64\n",
      " 13  median_value                   547 non-null    float64\n",
      " 14  median_monthly_mort            539 non-null    float64\n",
      " 15  median_monthly_rent            563 non-null    float64\n",
      " 16  median_income                  554 non-null    float64\n",
      " 17  mean_income                    555 non-null    float64\n",
      " 18  housed_population              560 non-null    float64\n",
      " 19  owner_occupied                 560 non-null    float64\n",
      " 20  owner_occupied_pre-2000        560 non-null    float64\n",
      " 21  renter_occupied                560 non-null    float64\n",
      " 22  renter_occupied_pre-2000       560 non-null    float64\n",
      " 23  percent_owners                 560 non-null    float64\n",
      " 24  percent_renters                560 non-null    float64\n",
      " 25  percent_owners_pre-2000        555 non-null    float64\n",
      " 26  percent_renters_pre-2000       560 non-null    float64\n",
      " 27  owners_renters_ratio           560 non-null    float64\n",
      " 28  renters_owners_pre-2000_ratio  560 non-null    float64\n",
      " 29  BFBL                           660 non-null    float64\n",
      " 30  BL                             660 non-null    float64\n",
      " 31  BLSL                           660 non-null    float64\n",
      " 32  SBL                            660 non-null    float64\n",
      " 33  SLM                            660 non-null    float64\n",
      " 34  SLMTC                          660 non-null    float64\n",
      " 35  SUP                            660 non-null    float64\n",
      " 36  total_built_all_lanes          660 non-null    float64\n",
      " 37  cumulative_length              660 non-null    float64\n",
      "dtypes: float64(36), int64(1), object(1)\n",
      "memory usage: 212.1+ KB\n"
     ]
    }
   ],
   "source": [
    "census_bike.info()"
   ],
   "metadata": {
    "collapsed": false
   }
  },
  {
   "cell_type": "markdown",
   "source": [
    "### Preprocess Merged Census and Bike Infrastructure Data"
   ],
   "metadata": {
    "collapsed": false
   }
  },
  {
   "cell_type": "code",
   "execution_count": 36,
   "outputs": [],
   "source": [
    "# Set neighborhood labels\n",
    "def set_neighborhood(tract):\n",
    "    if tract in dorchester:\n",
    "        return \"Dorchester\"\n",
    "    elif tract in roxbury:\n",
    "        return \"Roxbury\"\n",
    "    elif tract in jp:\n",
    "        return \"Jamaica Plain\"\n",
    "    else:\n",
    "        return ''\n",
    "\n",
    "census_bike['neighborhood'] = census_bike['tract'].apply(set_neighborhood)"
   ],
   "metadata": {
    "collapsed": false
   }
  },
  {
   "cell_type": "code",
   "execution_count": 37,
   "outputs": [],
   "source": [
    "# Reorder columns\n",
    "leading_cols = ['tract', 'year', 'neighborhood']\n",
    "census_bike = census_bike[leading_cols + [col for col in census_bike.columns if col not in leading_cols]]"
   ],
   "metadata": {
    "collapsed": false
   }
  },
  {
   "cell_type": "code",
   "execution_count": 39,
   "outputs": [],
   "source": [
    "# Save combined file\n",
    "# census_bike.to_csv(data_folder + \"census_bike_merged.csv\", index=False)"
   ],
   "metadata": {
    "collapsed": false
   }
  },
  {
   "cell_type": "code",
   "execution_count": 40,
   "outputs": [
    {
     "data": {
      "text/plain": "  tract  year neighborhood  total_population   male  female  median_age  \\\n0  1001  2010   Dorchester            5617.0  0.481   0.519        23.9   \n1  1001  2011   Dorchester            5657.0  0.480   0.520        24.5   \n2  1001  2012   Dorchester            6189.0  0.451   0.549        25.2   \n3  1001  2013   Dorchester            6295.0  0.433   0.567        27.3   \n4  1001  2014   Dorchester            6371.0  0.455   0.545        31.2   \n\n   race_white  race_black  race_ai_alaskan  ...  \\\n0       0.063       0.638            0.012  ...   \n1       0.109       0.619            0.014  ...   \n2       0.074       0.701            0.004  ...   \n3       0.112       0.727            0.001  ...   \n4       0.131       0.750            0.001  ...   \n\n   renters_owners_pre-2000_ratio  BFBL           BL  BLSL  SBL         SLM  \\\n0                       0.700662   0.0  2493.815844   0.0  0.0  563.192706   \n1                       0.774003   0.0     0.000000   0.0  0.0    0.000000   \n2                       1.260708   0.0   851.779668   0.0  0.0  684.141817   \n3                       1.236902   0.0    36.450628   0.0  0.0    0.000000   \n4                       0.946850   0.0     0.000000   0.0  0.0    0.000000   \n\n   SLMTC  SUP  total_built_all_lanes  cumulative_length  \n0    0.0  0.0            3057.008550        3167.046929  \n1    0.0  0.0               0.000000        3167.046929  \n2    0.0  0.0            1535.921485        4702.968414  \n3    0.0  0.0              36.450628        4739.419042  \n4    0.0  0.0               0.000000        4739.419042  \n\n[5 rows x 39 columns]",
      "text/html": "<div>\n<style scoped>\n    .dataframe tbody tr th:only-of-type {\n        vertical-align: middle;\n    }\n\n    .dataframe tbody tr th {\n        vertical-align: top;\n    }\n\n    .dataframe thead th {\n        text-align: right;\n    }\n</style>\n<table border=\"1\" class=\"dataframe\">\n  <thead>\n    <tr style=\"text-align: right;\">\n      <th></th>\n      <th>tract</th>\n      <th>year</th>\n      <th>neighborhood</th>\n      <th>total_population</th>\n      <th>male</th>\n      <th>female</th>\n      <th>median_age</th>\n      <th>race_white</th>\n      <th>race_black</th>\n      <th>race_ai_alaskan</th>\n      <th>...</th>\n      <th>renters_owners_pre-2000_ratio</th>\n      <th>BFBL</th>\n      <th>BL</th>\n      <th>BLSL</th>\n      <th>SBL</th>\n      <th>SLM</th>\n      <th>SLMTC</th>\n      <th>SUP</th>\n      <th>total_built_all_lanes</th>\n      <th>cumulative_length</th>\n    </tr>\n  </thead>\n  <tbody>\n    <tr>\n      <th>0</th>\n      <td>1001</td>\n      <td>2010</td>\n      <td>Dorchester</td>\n      <td>5617.0</td>\n      <td>0.481</td>\n      <td>0.519</td>\n      <td>23.9</td>\n      <td>0.063</td>\n      <td>0.638</td>\n      <td>0.012</td>\n      <td>...</td>\n      <td>0.700662</td>\n      <td>0.0</td>\n      <td>2493.815844</td>\n      <td>0.0</td>\n      <td>0.0</td>\n      <td>563.192706</td>\n      <td>0.0</td>\n      <td>0.0</td>\n      <td>3057.008550</td>\n      <td>3167.046929</td>\n    </tr>\n    <tr>\n      <th>1</th>\n      <td>1001</td>\n      <td>2011</td>\n      <td>Dorchester</td>\n      <td>5657.0</td>\n      <td>0.480</td>\n      <td>0.520</td>\n      <td>24.5</td>\n      <td>0.109</td>\n      <td>0.619</td>\n      <td>0.014</td>\n      <td>...</td>\n      <td>0.774003</td>\n      <td>0.0</td>\n      <td>0.000000</td>\n      <td>0.0</td>\n      <td>0.0</td>\n      <td>0.000000</td>\n      <td>0.0</td>\n      <td>0.0</td>\n      <td>0.000000</td>\n      <td>3167.046929</td>\n    </tr>\n    <tr>\n      <th>2</th>\n      <td>1001</td>\n      <td>2012</td>\n      <td>Dorchester</td>\n      <td>6189.0</td>\n      <td>0.451</td>\n      <td>0.549</td>\n      <td>25.2</td>\n      <td>0.074</td>\n      <td>0.701</td>\n      <td>0.004</td>\n      <td>...</td>\n      <td>1.260708</td>\n      <td>0.0</td>\n      <td>851.779668</td>\n      <td>0.0</td>\n      <td>0.0</td>\n      <td>684.141817</td>\n      <td>0.0</td>\n      <td>0.0</td>\n      <td>1535.921485</td>\n      <td>4702.968414</td>\n    </tr>\n    <tr>\n      <th>3</th>\n      <td>1001</td>\n      <td>2013</td>\n      <td>Dorchester</td>\n      <td>6295.0</td>\n      <td>0.433</td>\n      <td>0.567</td>\n      <td>27.3</td>\n      <td>0.112</td>\n      <td>0.727</td>\n      <td>0.001</td>\n      <td>...</td>\n      <td>1.236902</td>\n      <td>0.0</td>\n      <td>36.450628</td>\n      <td>0.0</td>\n      <td>0.0</td>\n      <td>0.000000</td>\n      <td>0.0</td>\n      <td>0.0</td>\n      <td>36.450628</td>\n      <td>4739.419042</td>\n    </tr>\n    <tr>\n      <th>4</th>\n      <td>1001</td>\n      <td>2014</td>\n      <td>Dorchester</td>\n      <td>6371.0</td>\n      <td>0.455</td>\n      <td>0.545</td>\n      <td>31.2</td>\n      <td>0.131</td>\n      <td>0.750</td>\n      <td>0.001</td>\n      <td>...</td>\n      <td>0.946850</td>\n      <td>0.0</td>\n      <td>0.000000</td>\n      <td>0.0</td>\n      <td>0.0</td>\n      <td>0.000000</td>\n      <td>0.0</td>\n      <td>0.0</td>\n      <td>0.000000</td>\n      <td>4739.419042</td>\n    </tr>\n  </tbody>\n</table>\n<p>5 rows × 39 columns</p>\n</div>"
     },
     "execution_count": 40,
     "metadata": {},
     "output_type": "execute_result"
    }
   ],
   "source": [
    "census_bike.head()"
   ],
   "metadata": {
    "collapsed": false
   }
  },
  {
   "cell_type": "markdown",
   "source": [
    "## Preliminary Analysis"
   ],
   "metadata": {
    "collapsed": false
   }
  },
  {
   "cell_type": "code",
   "execution_count": null,
   "outputs": [],
   "source": [],
   "metadata": {
    "collapsed": false
   }
  },
  {
   "cell_type": "code",
   "execution_count": null,
   "outputs": [],
   "source": [],
   "metadata": {
    "collapsed": false
   }
  },
  {
   "cell_type": "code",
   "execution_count": null,
   "outputs": [],
   "source": [],
   "metadata": {
    "collapsed": false
   }
  },
  {
   "cell_type": "markdown",
   "source": [
    "## Key Questions"
   ],
   "metadata": {
    "collapsed": false
   }
  },
  {
   "cell_type": "code",
   "execution_count": null,
   "outputs": [],
   "source": [],
   "metadata": {
    "collapsed": false
   }
  },
  {
   "cell_type": "code",
   "execution_count": null,
   "outputs": [],
   "source": [],
   "metadata": {
    "collapsed": false
   }
  },
  {
   "cell_type": "code",
   "execution_count": null,
   "outputs": [],
   "source": [],
   "metadata": {
    "collapsed": false
   }
  },
  {
   "cell_type": "markdown",
   "source": [
    "## Scope Refinement and Limitations"
   ],
   "metadata": {
    "collapsed": false
   }
  },
  {
   "cell_type": "code",
   "execution_count": null,
   "outputs": [],
   "source": [],
   "metadata": {
    "collapsed": false
   }
  },
  {
   "cell_type": "code",
   "execution_count": null,
   "outputs": [],
   "source": [],
   "metadata": {
    "collapsed": false
   }
  },
  {
   "cell_type": "code",
   "execution_count": null,
   "outputs": [],
   "source": [],
   "metadata": {
    "collapsed": false
   }
  }
 ],
 "metadata": {
  "kernelspec": {
   "display_name": "Python 3",
   "language": "python",
   "name": "python3"
  },
  "language_info": {
   "codemirror_mode": {
    "name": "ipython",
    "version": 2
   },
   "file_extension": ".py",
   "mimetype": "text/x-python",
   "name": "python",
   "nbconvert_exporter": "python",
   "pygments_lexer": "ipython2",
   "version": "2.7.6"
  }
 },
 "nbformat": 4,
 "nbformat_minor": 0
}
