{
 "cells": [
  {
   "cell_type": "markdown",
   "source": [
    "# Livable Streets: Bike Infrastructure & Displacement\n",
    "## Project Deliverable 1\n",
    "\n",
    "#### Siddharth Bookinkere, Alexander Heger, Kwan Wing Tuet, Raviv Zait"
   ],
   "metadata": {
    "collapsed": false
   }
  },
  {
   "cell_type": "markdown",
   "source": [
    "## Clone repository"
   ],
   "metadata": {
    "collapsed": false
   }
  },
  {
   "cell_type": "code",
   "execution_count": 1,
   "metadata": {
    "collapsed": true
   },
   "outputs": [
    {
     "name": "stderr",
     "output_type": "stream",
     "text": [
      "Cloning into 'ds-livable-streets-infra'...\n"
     ]
    }
   ],
   "source": [
    "!git clone https://github.com/BU-Spark/ds-livable-streets-infra.git"
   ]
  },
  {
   "cell_type": "markdown",
   "source": [
    "## Collect and Pre-process Census and Bike Data"
   ],
   "metadata": {
    "collapsed": false
   }
  },
  {
   "cell_type": "code",
   "execution_count": 4,
   "outputs": [
    {
     "data": {
      "text/plain": "(564, 16)"
     },
     "execution_count": 4,
     "metadata": {},
     "output_type": "execute_result"
    }
   ],
   "source": [
    "import pandas as pd\n",
    "import numpy as np\n",
    "import os\n",
    "\n",
    "# Set the current working directory to the root of the repository\n",
    "os.chdir(\"C:/Users/Alex H/OneDrive/Documents/BU Fall 2023/DS701/ds-livable-streets-infra/\")\n",
    "\n",
    "# Customize data folder\n",
    "data_folder = \"fa23-team/data/\"\n",
    "\n",
    "# Read demographic and property value data\n",
    "combined_demo_prop = pd.read_csv(data_folder + \"combined_demo_prop.csv\", index_col=False)\n",
    "print(combined_demo_prop.shape)\n",
    "\n",
    "# Read income and house ownership data\n",
    "combined_income_owner = pd.read_csv(data_folder+\"income_houseownership.csv\", index_col=False)\n",
    "print(combined_income_owner.shape)\n",
    "\n",
    "# Read bike infrastructure data\n",
    "bike_data = pd.read_csv(data_folder + \"analysis/roxbury_dorchester_bike_data.csv\", index_col=False)"
   ],
   "metadata": {
    "collapsed": false
   }
  }
 ],
 "metadata": {
  "kernelspec": {
   "display_name": "Python 3",
   "language": "python",
   "name": "python3"
  },
  "language_info": {
   "codemirror_mode": {
    "name": "ipython",
    "version": 2
   },
   "file_extension": ".py",
   "mimetype": "text/x-python",
   "name": "python",
   "nbconvert_exporter": "python",
   "pygments_lexer": "ipython2",
   "version": "2.7.6"
  }
 },
 "nbformat": 4,
 "nbformat_minor": 0
}
