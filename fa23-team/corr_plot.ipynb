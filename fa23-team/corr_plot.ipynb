{
 "cells": [
  {
   "cell_type": "code",
   "execution_count": 1,
   "metadata": {
    "collapsed": true
   },
   "outputs": [],
   "source": [
    "import pandas as pd\n",
    "import numpy as np\n",
    "import seaborn as sns\n",
    "import matplotlib.pyplot as plt\n",
    "import openpyxl\n",
    "\n",
    "# Customize data folder\n",
    "data_folder = \"C:/Users/Alex H/OneDrive/Documents/BU Fall 2023/DS701/ds-livable-streets-infra/fa23-team/\""
   ]
  },
  {
   "cell_type": "code",
   "execution_count": 3,
   "outputs": [
    {
     "data": {
      "text/plain": "Index(['tract', 'year', 'neighborhood', 'total_population', 'male', 'female',\n       'median_age', 'race_white', 'race_black', 'race_ai_alaskan',\n       'race_asian', 'race_hawaiian', 'race_other', 'race_hispanic',\n       'median_value', 'median_monthly_mort', 'median_monthly_rent',\n       'median_income', 'mean_income', 'housed_population', 'owner_occupied',\n       'owner_occupied_pre-2000', 'renter_occupied',\n       'renter_occupied_pre-2000', 'percent_owners', 'percent_renters',\n       'percent_owners_pre-2000', 'percent_renters_pre-2000',\n       'renters_owners_ratio', 'renters_owners_pre-2000_ratio', 'BFBL', 'BL',\n       'BLSL', 'SBL', 'SLM', 'SLMTC', 'SUP', 'total_built_all_lanes',\n       'cumulative_length'],\n      dtype='object')"
     },
     "execution_count": 3,
     "metadata": {},
     "output_type": "execute_result"
    }
   ],
   "source": [
    "# Read merged data\n",
    "merged_df = pd.read_csv(data_folder + \"census_bike_merged.csv\", index_col=False)\n",
    "merged_df.columns"
   ],
   "metadata": {
    "collapsed": false
   }
  },
  {
   "cell_type": "code",
   "execution_count": 8,
   "outputs": [],
   "source": [
    "# Generate correlation matrix\n",
    "corr = merged_df[['total_population', 'median_age', 'race_white', 'race_black', 'race_hispanic',\n",
    "                  'median_value', 'median_monthly_rent', 'median_income', 'housed_population','percent_renters', 'total_built_all_lanes']].corr()\n",
    "\n",
    "corr.style.background_gradient(cmap=\"RdBu\").format(precision=2)\\\n",
    "    .to_excel(\"style.xlsx\")"
   ],
   "metadata": {
    "collapsed": false
   }
  }
 ],
 "metadata": {
  "kernelspec": {
   "display_name": "Python 3",
   "language": "python",
   "name": "python3"
  },
  "language_info": {
   "codemirror_mode": {
    "name": "ipython",
    "version": 2
   },
   "file_extension": ".py",
   "mimetype": "text/x-python",
   "name": "python",
   "nbconvert_exporter": "python",
   "pygments_lexer": "ipython2",
   "version": "2.7.6"
  }
 },
 "nbformat": 4,
 "nbformat_minor": 0
}
