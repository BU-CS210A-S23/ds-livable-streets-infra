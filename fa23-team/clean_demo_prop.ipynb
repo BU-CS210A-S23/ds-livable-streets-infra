{
 "cells": [
  {
   "cell_type": "code",
   "execution_count": 28,
   "metadata": {
    "collapsed": true
   },
   "outputs": [],
   "source": [
    "import pandas as pd\n",
    "import numpy as np\n",
    "\n",
    "# Customize data folder\n",
    "data_folder = \"C:/Users/Alex H/OneDrive/Documents/BU Fall 2023/DS701/ds-livable-streets-infra/fa23-team/\""
   ]
  },
  {
   "cell_type": "code",
   "execution_count": 29,
   "outputs": [
    {
     "data": {
      "text/plain": "(578, 16)"
     },
     "execution_count": 29,
     "metadata": {},
     "output_type": "execute_result"
    }
   ],
   "source": [
    "# Read demographic and property value data\n",
    "combined_demo_prop = pd.read_csv(data_folder + \"combined_add_jp.csv\", index_col=False)\n",
    "combined_demo_prop.shape"
   ],
   "metadata": {
    "collapsed": false
   }
  },
  {
   "cell_type": "code",
   "execution_count": 30,
   "outputs": [
    {
     "name": "stdout",
     "output_type": "stream",
     "text": [
      "52\n",
      "53\n"
     ]
    }
   ],
   "source": [
    "# Replace tract 813.01 with 804.01 in demographic and property value data\n",
    "combined_demo_prop = combined_demo_prop[combined_demo_prop.tract != 813.01]\n",
    "print(combined_demo_prop.tract.nunique())\n",
    "\n",
    "ct804 = pd.read_csv(data_folder + \"demo_804-01.csv\", index_col=False)\n",
    "combined_demo_prop = pd.concat([combined_demo_prop, ct804], ignore_index=True)\n",
    "print(combined_demo_prop.tract.nunique())"
   ],
   "metadata": {
    "collapsed": false
   }
  },
  {
   "cell_type": "code",
   "execution_count": 31,
   "outputs": [
    {
     "data": {
      "text/plain": "array([ 708.  ,  708.01,  709.  ,  709.01,  801.  ,  803.  ,  805.  ,\n        806.01,  813.  ,  813.02,  814.  ,  815.  ,  817.  ,  818.  ,\n        819.  ,  820.  ,  821.  ,  901.  ,  902.  ,  903.  ,  904.  ,\n        906.  ,  907.  ,  909.01,  910.01,  911.  ,  912.  ,  913.  ,\n        914.  ,  915.  ,  916.  ,  917.  ,  918.  ,  919.  ,  920.  ,\n        921.01,  922.  ,  923.  ,  924.  , 1001.  , 1002.  , 1003.  ,\n       1004.  , 1005.  , 1006.01, 1006.03, 1007.  , 1008.  , 1101.03,\n       1101.05, 1201.04, 1202.01,  804.01])"
     },
     "execution_count": 31,
     "metadata": {},
     "output_type": "execute_result"
    }
   ],
   "source": [
    "combined_demo_prop.tract.unique()"
   ],
   "metadata": {
    "collapsed": false
   }
  },
  {
   "cell_type": "code",
   "execution_count": 32,
   "outputs": [
    {
     "data": {
      "text/plain": "year\n2010    49\n2011    49\n2012    49\n2013    49\n2014    49\n2015    49\n2016    49\n2017    49\n2018    49\n2019    49\n2020    49\n2021    49\nName: tract, dtype: int64"
     },
     "execution_count": 32,
     "metadata": {},
     "output_type": "execute_result"
    }
   ],
   "source": [
    "combined_demo_prop.groupby('year').count().tract"
   ],
   "metadata": {
    "collapsed": false
   }
  },
  {
   "cell_type": "code",
   "execution_count": 33,
   "outputs": [
    {
     "data": {
      "text/plain": "49"
     },
     "execution_count": 33,
     "metadata": {},
     "output_type": "execute_result"
    }
   ],
   "source": [
    "drop_tracts = [708.00, 708.01, 709.00, 709.01]\n",
    "\n",
    "combined_demo_prop = combined_demo_prop[~combined_demo_prop['tract'].isin(drop_tracts)]\n",
    "combined_demo_prop.tract.nunique()"
   ],
   "metadata": {
    "collapsed": false
   }
  },
  {
   "cell_type": "code",
   "execution_count": 34,
   "outputs": [
    {
     "data": {
      "text/plain": "801.00     12\n1001.00    12\n916.00     12\n917.00     12\n918.00     12\n919.00     12\n920.00     12\n921.01     12\n922.00     12\n923.00     12\n924.00     12\n1002.00    12\n803.00     12\n1003.00    12\n1004.00    12\n1005.00    12\n1006.01    12\n1006.03    12\n1007.00    12\n1008.00    12\n1201.04    12\n1202.01    12\n915.00     12\n914.00     12\n913.00     12\n821.00     12\n805.00     12\n806.01     12\n814.00     12\n815.00     12\n817.00     12\n818.00     12\n819.00     12\n912.00     12\n820.00     12\n901.00     12\n902.00     12\n903.00     12\n904.00     12\n906.00     12\n907.00     12\n909.01     12\n910.01     12\n911.00     12\n804.01     12\n813.00     10\n1101.03    10\n813.02      2\n1101.05     2\nName: tract, dtype: int64"
     },
     "execution_count": 34,
     "metadata": {},
     "output_type": "execute_result"
    }
   ],
   "source": [
    "combined_demo_prop.tract.value_counts()"
   ],
   "metadata": {
    "collapsed": false
   }
  },
  {
   "cell_type": "code",
   "execution_count": 37,
   "outputs": [],
   "source": [
    "combined_demo_prop = combined_demo_prop.replace(813.02, 813.00)\n",
    "combined_demo_prop = combined_demo_prop.replace(1101.05, 1101.03)"
   ],
   "metadata": {
    "collapsed": false
   }
  },
  {
   "cell_type": "code",
   "execution_count": 38,
   "outputs": [
    {
     "data": {
      "text/plain": "801.00     12\n1002.00    12\n917.00     12\n918.00     12\n919.00     12\n920.00     12\n921.01     12\n922.00     12\n923.00     12\n924.00     12\n1001.00    12\n1003.00    12\n915.00     12\n1004.00    12\n1005.00    12\n1006.01    12\n1006.03    12\n1007.00    12\n1008.00    12\n1101.03    12\n1201.04    12\n1202.01    12\n916.00     12\n914.00     12\n803.00     12\n821.00     12\n805.00     12\n806.01     12\n813.00     12\n814.00     12\n815.00     12\n817.00     12\n818.00     12\n819.00     12\n820.00     12\n901.00     12\n913.00     12\n902.00     12\n903.00     12\n904.00     12\n906.00     12\n907.00     12\n909.01     12\n910.01     12\n911.00     12\n912.00     12\n804.01     12\nName: tract, dtype: int64"
     },
     "execution_count": 38,
     "metadata": {},
     "output_type": "execute_result"
    }
   ],
   "source": [
    "combined_demo_prop.tract.value_counts()"
   ],
   "metadata": {
    "collapsed": false
   }
  },
  {
   "cell_type": "code",
   "execution_count": 39,
   "outputs": [
    {
     "data": {
      "text/plain": "47"
     },
     "execution_count": 39,
     "metadata": {},
     "output_type": "execute_result"
    }
   ],
   "source": [
    "combined_demo_prop.tract.nunique()"
   ],
   "metadata": {
    "collapsed": false
   }
  }
 ],
 "metadata": {
  "kernelspec": {
   "display_name": "Python 3",
   "language": "python",
   "name": "python3"
  },
  "language_info": {
   "codemirror_mode": {
    "name": "ipython",
    "version": 2
   },
   "file_extension": ".py",
   "mimetype": "text/x-python",
   "name": "python",
   "nbconvert_exporter": "python",
   "pygments_lexer": "ipython2",
   "version": "2.7.6"
  }
 },
 "nbformat": 4,
 "nbformat_minor": 0
}
