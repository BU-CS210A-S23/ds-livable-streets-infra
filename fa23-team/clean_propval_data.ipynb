{
  "nbformat": 4,
  "nbformat_minor": 0,
  "metadata": {
    "colab": {
      "provenance": []
    },
    "kernelspec": {
      "name": "python3",
      "display_name": "Python 3"
    },
    "language_info": {
      "name": "python"
    }
  },
  "cells": [
    {
      "cell_type": "markdown",
      "source": [
        "# Clean Property Value Data\n",
        "\n",
        "Data sourced from: https://data.census.gov/table/ACSDP5Y2010.DP04?t=Financial+Characteristics&g=1400000US25025070800,25025070801,25025070900,25025070901,25025080100,25025080300,25025080500,25025080601,25025081300,25025081301,25025081302,25025081400,25025081500,25025081700,25025081800,25025081900,25025082000,25025082100,25025090100,25025090200,25025090300,25025090400,25025090600,25025090700,25025090900,25025090901,25025091000,25025091001,25025091100,25025091200,25025091300,25025091400,25025091500,25025091600,25025091700,25025091800,25025091900,25025092000,25025092100,25025092101,25025092200,25025092300,25025092400,25025100100,25025100200,25025100300,25025100400,25025100500,25025100601,25025100602,25025100603,25025100700,25025100800"
      ],
      "metadata": {
        "id": "xc8Rrlnoksqg"
      }
    },
    {
      "cell_type": "code",
      "execution_count": 1,
      "metadata": {
        "colab": {
          "base_uri": "https://localhost:8080/"
        },
        "id": "arFrTPRyazri",
        "outputId": "40c1734f-023d-4b5b-d4bc-355369236cd5"
      },
      "outputs": [
        {
          "output_type": "stream",
          "name": "stdout",
          "text": [
            "Mounted at /content/drive\n"
          ]
        }
      ],
      "source": [
        "from google.colab import drive\n",
        "import pandas as pd\n",
        "\n",
        "drive.mount('/content/drive')"
      ]
    },
    {
      "cell_type": "code",
      "source": [
        "data_folder = \"/content/drive/MyDrive/DS701/\"  # Update this with your data folder path\n",
        "\n",
        "# Define a list of DataFrame names from d10 to d21\n",
        "data_frame_names = ['p10', 'p11', 'p12', 'p13', 'p14', 'p15', 'p16', 'p17', 'p18', 'p19', 'p20', 'p21']\n",
        "\n",
        "for name in data_frame_names:\n",
        "    # Load the DataFrame from a CSV file\n",
        "    df = pd.read_csv(data_folder + '20{}_propval.csv'.format(name[1:]), index_col=False)\n",
        "\n",
        "    # Transpose the DataFrame\n",
        "    df = df.transpose()\n",
        "\n",
        "    # Extract the first row as column labels\n",
        "    new_columns = df.iloc[0]\n",
        "\n",
        "    # Set the first row as the column labels\n",
        "    df = df.iloc[1:]\n",
        "    df = df.set_axis(new_columns, axis=1)\n",
        "\n",
        "    # Reset the index\n",
        "    df = df.reset_index()\n",
        "    df.columns.names = ['']\n",
        "\n",
        "    # Rename the 'index' column to 'tract'\n",
        "    df = df.rename(columns={\"index\": \"tract\"})\n",
        "\n",
        "    # Split 'tract' column into 'tract' and 'info'\n",
        "    df[['tract', 'info']] = df['tract'].str.split(',', 1, expand=True)\n",
        "\n",
        "    # Clean the 'info' and 'tract' columns\n",
        "    df['info'] = df['info'].str.replace('Suffolk County, Massachusetts!!', '', regex=True)\n",
        "    df['tract'] = df['tract'].str.replace('Census Tract ', '', regex=True)\n",
        "\n",
        "    # Remove commas\n",
        "    df = df.replace(',', '', regex=True)\n",
        "\n",
        "    # Remove spaces from column names\n",
        "    df.columns = df.columns.str.strip()\n",
        "\n",
        "    # Define columns to keep\n",
        "    cols_to_keep = ['tract', 'info', 'VALUE', 'Median (dollars)',\n",
        "                    'SELECTED MONTHLY OWNER COSTS (SMOC)', 'GROSS RENT']\n",
        "\n",
        "    # Drop columns not in the 'cols_to_keep' list\n",
        "    df = df.drop([col for col in df.columns if col not in cols_to_keep], axis=1)\n",
        "\n",
        "    # Update column names, then drop unnecessary columns\n",
        "    df.columns = ['tract', 'value', 'median_value', 'smoc', 'median_monthly_mort',\n",
        "                  'median_monthly_no_mort', 'gross_rent', 'median_monthly_rent', 'info']\n",
        "    df = df.drop(['value', 'smoc', 'median_monthly_no_mort', 'gross_rent'], axis=1)\n",
        "\n",
        "    # Remove specific strings from the 'info' column\n",
        "    df['info'] = df['info'].str.strip()  # Removes leading space\n",
        "    strings_to_remove = [\"Estimate Margin of Error\", \"Margin of Error\", \"Percent\", \"Percent Margin of Error\"]\n",
        "    df = df[~df['info'].isin(strings_to_remove)]\n",
        "    df = df.drop('info', axis=1)\n",
        "\n",
        "    # Add year column\n",
        "    df['year'] = '20{}'.format(name[1:])\n",
        "\n",
        "    # Reorder columns\n",
        "    leading_cols = ['tract', 'year']\n",
        "    df = df[leading_cols + [col for col in df.columns if col not in leading_cols]]\n",
        "\n",
        "    # Define the output filename - for exporting\n",
        "    output_filename = data_folder + f\"{name}_processed.csv\"\n",
        "\n",
        "    # Export the DataFrame to a CSV file\n",
        "    df.to_csv(output_filename, index=False)\n",
        "\n",
        "    print(f\"{name} has been exported to {output_filename}\")\n"
      ],
      "metadata": {
        "colab": {
          "base_uri": "https://localhost:8080/"
        },
        "id": "2GBIoQgRl__k",
        "outputId": "a17030b6-e2f0-4723-b524-568f29d69bf3"
      },
      "execution_count": 2,
      "outputs": [
        {
          "output_type": "stream",
          "name": "stderr",
          "text": [
            "<ipython-input-2-ef3d4f9df24e>:28: FutureWarning: In a future version of pandas all arguments of StringMethods.split except for the argument 'pat' will be keyword-only.\n",
            "  df[['tract', 'info']] = df['tract'].str.split(',', 1, expand=True)\n"
          ]
        },
        {
          "output_type": "stream",
          "name": "stdout",
          "text": [
            "p10 has been exported to /content/drive/MyDrive/DS701/p10_processed_804.csv\n"
          ]
        },
        {
          "output_type": "stream",
          "name": "stderr",
          "text": [
            "<ipython-input-2-ef3d4f9df24e>:28: FutureWarning: In a future version of pandas all arguments of StringMethods.split except for the argument 'pat' will be keyword-only.\n",
            "  df[['tract', 'info']] = df['tract'].str.split(',', 1, expand=True)\n"
          ]
        },
        {
          "output_type": "stream",
          "name": "stdout",
          "text": [
            "p11 has been exported to /content/drive/MyDrive/DS701/p11_processed_804.csv\n"
          ]
        },
        {
          "output_type": "stream",
          "name": "stderr",
          "text": [
            "<ipython-input-2-ef3d4f9df24e>:28: FutureWarning: In a future version of pandas all arguments of StringMethods.split except for the argument 'pat' will be keyword-only.\n",
            "  df[['tract', 'info']] = df['tract'].str.split(',', 1, expand=True)\n"
          ]
        },
        {
          "output_type": "stream",
          "name": "stdout",
          "text": [
            "p12 has been exported to /content/drive/MyDrive/DS701/p12_processed_804.csv\n"
          ]
        },
        {
          "output_type": "stream",
          "name": "stderr",
          "text": [
            "<ipython-input-2-ef3d4f9df24e>:28: FutureWarning: In a future version of pandas all arguments of StringMethods.split except for the argument 'pat' will be keyword-only.\n",
            "  df[['tract', 'info']] = df['tract'].str.split(',', 1, expand=True)\n"
          ]
        },
        {
          "output_type": "stream",
          "name": "stdout",
          "text": [
            "p13 has been exported to /content/drive/MyDrive/DS701/p13_processed_804.csv\n"
          ]
        },
        {
          "output_type": "stream",
          "name": "stderr",
          "text": [
            "<ipython-input-2-ef3d4f9df24e>:28: FutureWarning: In a future version of pandas all arguments of StringMethods.split except for the argument 'pat' will be keyword-only.\n",
            "  df[['tract', 'info']] = df['tract'].str.split(',', 1, expand=True)\n",
            "<ipython-input-2-ef3d4f9df24e>:28: FutureWarning: In a future version of pandas all arguments of StringMethods.split except for the argument 'pat' will be keyword-only.\n",
            "  df[['tract', 'info']] = df['tract'].str.split(',', 1, expand=True)\n"
          ]
        },
        {
          "output_type": "stream",
          "name": "stdout",
          "text": [
            "p14 has been exported to /content/drive/MyDrive/DS701/p14_processed_804.csv\n",
            "p15 has been exported to /content/drive/MyDrive/DS701/p15_processed_804.csv\n",
            "p16 has been exported to /content/drive/MyDrive/DS701/p16_processed_804.csv\n"
          ]
        },
        {
          "output_type": "stream",
          "name": "stderr",
          "text": [
            "<ipython-input-2-ef3d4f9df24e>:28: FutureWarning: In a future version of pandas all arguments of StringMethods.split except for the argument 'pat' will be keyword-only.\n",
            "  df[['tract', 'info']] = df['tract'].str.split(',', 1, expand=True)\n",
            "<ipython-input-2-ef3d4f9df24e>:28: FutureWarning: In a future version of pandas all arguments of StringMethods.split except for the argument 'pat' will be keyword-only.\n",
            "  df[['tract', 'info']] = df['tract'].str.split(',', 1, expand=True)\n"
          ]
        },
        {
          "output_type": "stream",
          "name": "stdout",
          "text": [
            "p17 has been exported to /content/drive/MyDrive/DS701/p17_processed_804.csv\n"
          ]
        },
        {
          "output_type": "stream",
          "name": "stderr",
          "text": [
            "<ipython-input-2-ef3d4f9df24e>:28: FutureWarning: In a future version of pandas all arguments of StringMethods.split except for the argument 'pat' will be keyword-only.\n",
            "  df[['tract', 'info']] = df['tract'].str.split(',', 1, expand=True)\n"
          ]
        },
        {
          "output_type": "stream",
          "name": "stdout",
          "text": [
            "p18 has been exported to /content/drive/MyDrive/DS701/p18_processed_804.csv\n"
          ]
        },
        {
          "output_type": "stream",
          "name": "stderr",
          "text": [
            "<ipython-input-2-ef3d4f9df24e>:28: FutureWarning: In a future version of pandas all arguments of StringMethods.split except for the argument 'pat' will be keyword-only.\n",
            "  df[['tract', 'info']] = df['tract'].str.split(',', 1, expand=True)\n"
          ]
        },
        {
          "output_type": "stream",
          "name": "stdout",
          "text": [
            "p19 has been exported to /content/drive/MyDrive/DS701/p19_processed_804.csv\n"
          ]
        },
        {
          "output_type": "stream",
          "name": "stderr",
          "text": [
            "<ipython-input-2-ef3d4f9df24e>:28: FutureWarning: In a future version of pandas all arguments of StringMethods.split except for the argument 'pat' will be keyword-only.\n",
            "  df[['tract', 'info']] = df['tract'].str.split(',', 1, expand=True)\n"
          ]
        },
        {
          "output_type": "stream",
          "name": "stdout",
          "text": [
            "p20 has been exported to /content/drive/MyDrive/DS701/p20_processed_804.csv\n",
            "p21 has been exported to /content/drive/MyDrive/DS701/p21_processed_804.csv\n"
          ]
        },
        {
          "output_type": "stream",
          "name": "stderr",
          "text": [
            "<ipython-input-2-ef3d4f9df24e>:28: FutureWarning: In a future version of pandas all arguments of StringMethods.split except for the argument 'pat' will be keyword-only.\n",
            "  df[['tract', 'info']] = df['tract'].str.split(',', 1, expand=True)\n"
          ]
        }
      ]
    },
    {
      "cell_type": "code",
      "source": [
        "import numpy as np\n",
        "\n",
        "csv_files = [\n",
        "    \"/content/drive/MyDrive/DS701/p10_processed.csv\",\n",
        "    \"/content/drive/MyDrive/DS701/p11_processed.csv\",\n",
        "    \"/content/drive/MyDrive/DS701/p12_processed.csv\",\n",
        "    \"/content/drive/MyDrive/DS701/p13_processed.csv\",\n",
        "    \"/content/drive/MyDrive/DS701/p14_processed.csv\",\n",
        "    \"/content/drive/MyDrive/DS701/p15_processed.csv\",\n",
        "    \"/content/drive/MyDrive/DS701/p16_processed.csv\",\n",
        "    \"/content/drive/MyDrive/DS701/p17_processed.csv\",\n",
        "    \"/content/drive/MyDrive/DS701/p18_processed.csv\",\n",
        "    \"/content/drive/MyDrive/DS701/p19_processed.csv\",\n",
        "    \"/content/drive/MyDrive/DS701/p20_processed.csv\",\n",
        "    \"/content/drive/MyDrive/DS701/p21_processed.csv\"\n",
        "]\n",
        "\n",
        "# Initialize an empty list to store the DataFrames\n",
        "data_frames = []\n",
        "\n",
        "# Read each CSV file into a DataFrame and store it in the data_frames list\n",
        "for csv_file in csv_files:\n",
        "    df = pd.read_csv(csv_file)\n",
        "    data_frames.append(df)\n",
        "\n",
        "# Concatenate the DataFrames into a single DataFrame\n",
        "propval_df = pd.concat(data_frames, ignore_index=True)\n",
        "\n",
        "# Remove '-', '(X)', and '4000+'\n",
        "propval_df = propval_df.replace('-', np.nan)\n",
        "propval_df = propval_df.replace('(X)', np.nan)\n",
        "propval_df = propval_df.replace('4000+', '4000')\n",
        "\n",
        "convert = {'median_value': float,\n",
        "           'median_monthly_mort': float,\n",
        "           'median_monthly_rent': float}\n",
        "\n",
        "propval_df = propval_df.astype(convert)\n",
        "\n",
        "# Display the concatenated DataFrame\n",
        "propval_df.head()"
      ],
      "metadata": {
        "colab": {
          "base_uri": "https://localhost:8080/",
          "height": 206
        },
        "id": "4KlLvumHmi6h",
        "outputId": "04af6ea5-fede-4df1-d6d5-1caa2acf2925"
      },
      "execution_count": 3,
      "outputs": [
        {
          "output_type": "execute_result",
          "data": {
            "text/plain": [
              "    tract  year  median_value  median_monthly_mort  median_monthly_rent\n",
              "0  804.01  2010      241900.0               1760.0                688.0\n",
              "1  804.01  2011      288200.0               1885.0                473.0\n",
              "2  804.01  2012      296300.0               1861.0                444.0\n",
              "3  804.01  2013      275000.0               2301.0                603.0\n",
              "4  804.01  2014      250000.0               1496.0                671.0"
            ],
            "text/html": [
              "\n",
              "  <div id=\"df-fed3cbea-5a6d-464e-b340-bc6bdf7104a6\" class=\"colab-df-container\">\n",
              "    <div>\n",
              "<style scoped>\n",
              "    .dataframe tbody tr th:only-of-type {\n",
              "        vertical-align: middle;\n",
              "    }\n",
              "\n",
              "    .dataframe tbody tr th {\n",
              "        vertical-align: top;\n",
              "    }\n",
              "\n",
              "    .dataframe thead th {\n",
              "        text-align: right;\n",
              "    }\n",
              "</style>\n",
              "<table border=\"1\" class=\"dataframe\">\n",
              "  <thead>\n",
              "    <tr style=\"text-align: right;\">\n",
              "      <th></th>\n",
              "      <th>tract</th>\n",
              "      <th>year</th>\n",
              "      <th>median_value</th>\n",
              "      <th>median_monthly_mort</th>\n",
              "      <th>median_monthly_rent</th>\n",
              "    </tr>\n",
              "  </thead>\n",
              "  <tbody>\n",
              "    <tr>\n",
              "      <th>0</th>\n",
              "      <td>804.01</td>\n",
              "      <td>2010</td>\n",
              "      <td>241900.0</td>\n",
              "      <td>1760.0</td>\n",
              "      <td>688.0</td>\n",
              "    </tr>\n",
              "    <tr>\n",
              "      <th>1</th>\n",
              "      <td>804.01</td>\n",
              "      <td>2011</td>\n",
              "      <td>288200.0</td>\n",
              "      <td>1885.0</td>\n",
              "      <td>473.0</td>\n",
              "    </tr>\n",
              "    <tr>\n",
              "      <th>2</th>\n",
              "      <td>804.01</td>\n",
              "      <td>2012</td>\n",
              "      <td>296300.0</td>\n",
              "      <td>1861.0</td>\n",
              "      <td>444.0</td>\n",
              "    </tr>\n",
              "    <tr>\n",
              "      <th>3</th>\n",
              "      <td>804.01</td>\n",
              "      <td>2013</td>\n",
              "      <td>275000.0</td>\n",
              "      <td>2301.0</td>\n",
              "      <td>603.0</td>\n",
              "    </tr>\n",
              "    <tr>\n",
              "      <th>4</th>\n",
              "      <td>804.01</td>\n",
              "      <td>2014</td>\n",
              "      <td>250000.0</td>\n",
              "      <td>1496.0</td>\n",
              "      <td>671.0</td>\n",
              "    </tr>\n",
              "  </tbody>\n",
              "</table>\n",
              "</div>\n",
              "    <div class=\"colab-df-buttons\">\n",
              "\n",
              "  <div class=\"colab-df-container\">\n",
              "    <button class=\"colab-df-convert\" onclick=\"convertToInteractive('df-fed3cbea-5a6d-464e-b340-bc6bdf7104a6')\"\n",
              "            title=\"Convert this dataframe to an interactive table.\"\n",
              "            style=\"display:none;\">\n",
              "\n",
              "  <svg xmlns=\"http://www.w3.org/2000/svg\" height=\"24px\" viewBox=\"0 -960 960 960\">\n",
              "    <path d=\"M120-120v-720h720v720H120Zm60-500h600v-160H180v160Zm220 220h160v-160H400v160Zm0 220h160v-160H400v160ZM180-400h160v-160H180v160Zm440 0h160v-160H620v160ZM180-180h160v-160H180v160Zm440 0h160v-160H620v160Z\"/>\n",
              "  </svg>\n",
              "    </button>\n",
              "\n",
              "  <style>\n",
              "    .colab-df-container {\n",
              "      display:flex;\n",
              "      gap: 12px;\n",
              "    }\n",
              "\n",
              "    .colab-df-convert {\n",
              "      background-color: #E8F0FE;\n",
              "      border: none;\n",
              "      border-radius: 50%;\n",
              "      cursor: pointer;\n",
              "      display: none;\n",
              "      fill: #1967D2;\n",
              "      height: 32px;\n",
              "      padding: 0 0 0 0;\n",
              "      width: 32px;\n",
              "    }\n",
              "\n",
              "    .colab-df-convert:hover {\n",
              "      background-color: #E2EBFA;\n",
              "      box-shadow: 0px 1px 2px rgba(60, 64, 67, 0.3), 0px 1px 3px 1px rgba(60, 64, 67, 0.15);\n",
              "      fill: #174EA6;\n",
              "    }\n",
              "\n",
              "    .colab-df-buttons div {\n",
              "      margin-bottom: 4px;\n",
              "    }\n",
              "\n",
              "    [theme=dark] .colab-df-convert {\n",
              "      background-color: #3B4455;\n",
              "      fill: #D2E3FC;\n",
              "    }\n",
              "\n",
              "    [theme=dark] .colab-df-convert:hover {\n",
              "      background-color: #434B5C;\n",
              "      box-shadow: 0px 1px 3px 1px rgba(0, 0, 0, 0.15);\n",
              "      filter: drop-shadow(0px 1px 2px rgba(0, 0, 0, 0.3));\n",
              "      fill: #FFFFFF;\n",
              "    }\n",
              "  </style>\n",
              "\n",
              "    <script>\n",
              "      const buttonEl =\n",
              "        document.querySelector('#df-fed3cbea-5a6d-464e-b340-bc6bdf7104a6 button.colab-df-convert');\n",
              "      buttonEl.style.display =\n",
              "        google.colab.kernel.accessAllowed ? 'block' : 'none';\n",
              "\n",
              "      async function convertToInteractive(key) {\n",
              "        const element = document.querySelector('#df-fed3cbea-5a6d-464e-b340-bc6bdf7104a6');\n",
              "        const dataTable =\n",
              "          await google.colab.kernel.invokeFunction('convertToInteractive',\n",
              "                                                    [key], {});\n",
              "        if (!dataTable) return;\n",
              "\n",
              "        const docLinkHtml = 'Like what you see? Visit the ' +\n",
              "          '<a target=\"_blank\" href=https://colab.research.google.com/notebooks/data_table.ipynb>data table notebook</a>'\n",
              "          + ' to learn more about interactive tables.';\n",
              "        element.innerHTML = '';\n",
              "        dataTable['output_type'] = 'display_data';\n",
              "        await google.colab.output.renderOutput(dataTable, element);\n",
              "        const docLink = document.createElement('div');\n",
              "        docLink.innerHTML = docLinkHtml;\n",
              "        element.appendChild(docLink);\n",
              "      }\n",
              "    </script>\n",
              "  </div>\n",
              "\n",
              "\n",
              "<div id=\"df-4de5f55c-76bf-4d1f-b939-6e0b12668deb\">\n",
              "  <button class=\"colab-df-quickchart\" onclick=\"quickchart('df-4de5f55c-76bf-4d1f-b939-6e0b12668deb')\"\n",
              "            title=\"Suggest charts\"\n",
              "            style=\"display:none;\">\n",
              "\n",
              "<svg xmlns=\"http://www.w3.org/2000/svg\" height=\"24px\"viewBox=\"0 0 24 24\"\n",
              "     width=\"24px\">\n",
              "    <g>\n",
              "        <path d=\"M19 3H5c-1.1 0-2 .9-2 2v14c0 1.1.9 2 2 2h14c1.1 0 2-.9 2-2V5c0-1.1-.9-2-2-2zM9 17H7v-7h2v7zm4 0h-2V7h2v10zm4 0h-2v-4h2v4z\"/>\n",
              "    </g>\n",
              "</svg>\n",
              "  </button>\n",
              "\n",
              "<style>\n",
              "  .colab-df-quickchart {\n",
              "      --bg-color: #E8F0FE;\n",
              "      --fill-color: #1967D2;\n",
              "      --hover-bg-color: #E2EBFA;\n",
              "      --hover-fill-color: #174EA6;\n",
              "      --disabled-fill-color: #AAA;\n",
              "      --disabled-bg-color: #DDD;\n",
              "  }\n",
              "\n",
              "  [theme=dark] .colab-df-quickchart {\n",
              "      --bg-color: #3B4455;\n",
              "      --fill-color: #D2E3FC;\n",
              "      --hover-bg-color: #434B5C;\n",
              "      --hover-fill-color: #FFFFFF;\n",
              "      --disabled-bg-color: #3B4455;\n",
              "      --disabled-fill-color: #666;\n",
              "  }\n",
              "\n",
              "  .colab-df-quickchart {\n",
              "    background-color: var(--bg-color);\n",
              "    border: none;\n",
              "    border-radius: 50%;\n",
              "    cursor: pointer;\n",
              "    display: none;\n",
              "    fill: var(--fill-color);\n",
              "    height: 32px;\n",
              "    padding: 0;\n",
              "    width: 32px;\n",
              "  }\n",
              "\n",
              "  .colab-df-quickchart:hover {\n",
              "    background-color: var(--hover-bg-color);\n",
              "    box-shadow: 0 1px 2px rgba(60, 64, 67, 0.3), 0 1px 3px 1px rgba(60, 64, 67, 0.15);\n",
              "    fill: var(--button-hover-fill-color);\n",
              "  }\n",
              "\n",
              "  .colab-df-quickchart-complete:disabled,\n",
              "  .colab-df-quickchart-complete:disabled:hover {\n",
              "    background-color: var(--disabled-bg-color);\n",
              "    fill: var(--disabled-fill-color);\n",
              "    box-shadow: none;\n",
              "  }\n",
              "\n",
              "  .colab-df-spinner {\n",
              "    border: 2px solid var(--fill-color);\n",
              "    border-color: transparent;\n",
              "    border-bottom-color: var(--fill-color);\n",
              "    animation:\n",
              "      spin 1s steps(1) infinite;\n",
              "  }\n",
              "\n",
              "  @keyframes spin {\n",
              "    0% {\n",
              "      border-color: transparent;\n",
              "      border-bottom-color: var(--fill-color);\n",
              "      border-left-color: var(--fill-color);\n",
              "    }\n",
              "    20% {\n",
              "      border-color: transparent;\n",
              "      border-left-color: var(--fill-color);\n",
              "      border-top-color: var(--fill-color);\n",
              "    }\n",
              "    30% {\n",
              "      border-color: transparent;\n",
              "      border-left-color: var(--fill-color);\n",
              "      border-top-color: var(--fill-color);\n",
              "      border-right-color: var(--fill-color);\n",
              "    }\n",
              "    40% {\n",
              "      border-color: transparent;\n",
              "      border-right-color: var(--fill-color);\n",
              "      border-top-color: var(--fill-color);\n",
              "    }\n",
              "    60% {\n",
              "      border-color: transparent;\n",
              "      border-right-color: var(--fill-color);\n",
              "    }\n",
              "    80% {\n",
              "      border-color: transparent;\n",
              "      border-right-color: var(--fill-color);\n",
              "      border-bottom-color: var(--fill-color);\n",
              "    }\n",
              "    90% {\n",
              "      border-color: transparent;\n",
              "      border-bottom-color: var(--fill-color);\n",
              "    }\n",
              "  }\n",
              "</style>\n",
              "\n",
              "  <script>\n",
              "    async function quickchart(key) {\n",
              "      const quickchartButtonEl =\n",
              "        document.querySelector('#' + key + ' button');\n",
              "      quickchartButtonEl.disabled = true;  // To prevent multiple clicks.\n",
              "      quickchartButtonEl.classList.add('colab-df-spinner');\n",
              "      try {\n",
              "        const charts = await google.colab.kernel.invokeFunction(\n",
              "            'suggestCharts', [key], {});\n",
              "      } catch (error) {\n",
              "        console.error('Error during call to suggestCharts:', error);\n",
              "      }\n",
              "      quickchartButtonEl.classList.remove('colab-df-spinner');\n",
              "      quickchartButtonEl.classList.add('colab-df-quickchart-complete');\n",
              "    }\n",
              "    (() => {\n",
              "      let quickchartButtonEl =\n",
              "        document.querySelector('#df-4de5f55c-76bf-4d1f-b939-6e0b12668deb button');\n",
              "      quickchartButtonEl.style.display =\n",
              "        google.colab.kernel.accessAllowed ? 'block' : 'none';\n",
              "    })();\n",
              "  </script>\n",
              "</div>\n",
              "    </div>\n",
              "  </div>\n"
            ]
          },
          "metadata": {},
          "execution_count": 3
        }
      ]
    },
    {
      "cell_type": "code",
      "source": [
        "propval_df.info()"
      ],
      "metadata": {
        "colab": {
          "base_uri": "https://localhost:8080/"
        },
        "id": "vh1Ddr9zY0jK",
        "outputId": "371c1e66-c290-497c-9a47-5217e7efbe17"
      },
      "execution_count": 4,
      "outputs": [
        {
          "output_type": "stream",
          "name": "stdout",
          "text": [
            "<class 'pandas.core.frame.DataFrame'>\n",
            "RangeIndex: 12 entries, 0 to 11\n",
            "Data columns (total 5 columns):\n",
            " #   Column               Non-Null Count  Dtype  \n",
            "---  ------               --------------  -----  \n",
            " 0   tract                12 non-null     float64\n",
            " 1   year                 12 non-null     int64  \n",
            " 2   median_value         12 non-null     float64\n",
            " 3   median_monthly_mort  12 non-null     float64\n",
            " 4   median_monthly_rent  12 non-null     float64\n",
            "dtypes: float64(4), int64(1)\n",
            "memory usage: 608.0 bytes\n"
          ]
        }
      ]
    },
    {
      "cell_type": "code",
      "source": [
        "propval_df.to_csv(\"/content/drive/MyDrive/DS701/property_value.csv\", index=False)"
      ],
      "metadata": {
        "id": "b2gBYuoxrIH_"
      },
      "execution_count": 5,
      "outputs": []
    },
    {
      "cell_type": "code",
      "source": [
        "propval_df.tract.value_counts()"
      ],
      "metadata": {
        "colab": {
          "base_uri": "https://localhost:8080/"
        },
        "id": "XbdT_543pPjN",
        "outputId": "70ac5752-550f-4e6b-da80-99c051c9add6"
      },
      "execution_count": 6,
      "outputs": [
        {
          "output_type": "execute_result",
          "data": {
            "text/plain": [
              "804.01    12\n",
              "Name: tract, dtype: int64"
            ]
          },
          "metadata": {},
          "execution_count": 6
        }
      ]
    }
  ]
}