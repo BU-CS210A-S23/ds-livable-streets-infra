{
  "nbformat": 4,
  "nbformat_minor": 0,
  "metadata": {
    "colab": {
      "provenance": []
    },
    "kernelspec": {
      "name": "python3",
      "display_name": "Python 3"
    },
    "language_info": {
      "name": "python"
    }
  },
  "cells": [
    {
      "cell_type": "markdown",
      "source": [
        "# Clean Property Value Data\n",
        "\n",
        "Data sourced from: https://data.census.gov/table/ACSDP5Y2010.DP04?t=Financial+Characteristics&g=1400000US25025070800,25025070801,25025070900,25025070901,25025080100,25025080300,25025080500,25025080601,25025081300,25025081301,25025081302,25025081400,25025081500,25025081700,25025081800,25025081900,25025082000,25025082100,25025090100,25025090200,25025090300,25025090400,25025090600,25025090700,25025090900,25025090901,25025091000,25025091001,25025091100,25025091200,25025091300,25025091400,25025091500,25025091600,25025091700,25025091800,25025091900,25025092000,25025092100,25025092101,25025092200,25025092300,25025092400,25025100100,25025100200,25025100300,25025100400,25025100500,25025100601,25025100602,25025100603,25025100700,25025100800"
      ],
      "metadata": {
        "id": "xc8Rrlnoksqg"
      }
    },
    {
      "cell_type": "code",
      "execution_count": null,
      "metadata": {
        "colab": {
          "base_uri": "https://localhost:8080/"
        },
        "id": "arFrTPRyazri",
        "outputId": "b30f6c9a-a3c3-49ca-8bc4-18a906fd1b91"
      },
      "outputs": [
        {
          "output_type": "stream",
          "name": "stdout",
          "text": [
            "Drive already mounted at /content/drive; to attempt to forcibly remount, call drive.mount(\"/content/drive\", force_remount=True).\n"
          ]
        }
      ],
      "source": [
        "from google.colab import drive\n",
        "import pandas as pd\n",
        "\n",
        "drive.mount('/content/drive')"
      ]
    },
    {
      "cell_type": "code",
      "source": [
        "data_folder = \"/content/drive/MyDrive/DS701/\"  # Update this with your data folder path\n",
        "\n",
        "# Define a list of DataFrame names from d10 to d21\n",
        "data_frame_names = ['p10', 'p11', 'p12', 'p13', 'p14', 'p15', 'p16', 'p17', 'p18', 'p19', 'p20', 'p21']\n",
        "\n",
        "for name in data_frame_names:\n",
        "    # Load the DataFrame from a CSV file\n",
        "    df = pd.read_csv(data_folder + '20{}_propval.csv'.format(name[1:]), index_col=False)\n",
        "\n",
        "    # Transpose the DataFrame\n",
        "    df = df.transpose()\n",
        "\n",
        "    # Extract the first row as column labels\n",
        "    new_columns = df.iloc[0]\n",
        "\n",
        "    # Set the first row as the column labels\n",
        "    df = df.iloc[1:]\n",
        "    df = df.set_axis(new_columns, axis=1)\n",
        "\n",
        "    # Reset the index\n",
        "    df = df.reset_index()\n",
        "    df.columns.names = ['']\n",
        "\n",
        "    # Rename the 'index' column to 'tract'\n",
        "    df = df.rename(columns={\"index\": \"tract\"})\n",
        "\n",
        "    # Split 'tract' column into 'tract' and 'info'\n",
        "    df[['tract', 'info']] = df['tract'].str.split(',', 1, expand=True)\n",
        "\n",
        "    # Clean the 'info' and 'tract' columns\n",
        "    df['info'] = df['info'].str.replace('Suffolk County, Massachusetts!!', '', regex=True)\n",
        "    df['tract'] = df['tract'].str.replace('Census Tract ', '', regex=True)\n",
        "\n",
        "    # Remove commas\n",
        "    df = df.replace(',', '', regex=True)\n",
        "\n",
        "    # Remove spaces from column names\n",
        "    df.columns = df.columns.str.strip()\n",
        "\n",
        "    # Define columns to keep\n",
        "    cols_to_keep = ['tract', 'info', 'VALUE', 'Median (dollars)',\n",
        "                    'SELECTED MONTHLY OWNER COSTS (SMOC)', 'GROSS RENT']\n",
        "\n",
        "    # Drop columns not in the 'cols_to_keep' list\n",
        "    df = df.drop([col for col in df.columns if col not in cols_to_keep], axis=1)\n",
        "\n",
        "    # Update column names, then drop unnecessary columns\n",
        "    df.columns = ['tract', 'value', 'median_value', 'smoc', 'median_monthly_mort',\n",
        "                  'median_monthly_no_mort', 'gross_rent', 'median_monthly_rent', 'info']\n",
        "    df = df.drop(['value', 'smoc', 'median_monthly_no_mort', 'gross_rent'], axis=1)\n",
        "\n",
        "    # Remove specific strings from the 'info' column\n",
        "    df['info'] = df['info'].str.strip()  # Removes leading space\n",
        "    strings_to_remove = [\"Estimate Margin of Error\", \"Margin of Error\", \"Percent\", \"Percent Margin of Error\"]\n",
        "    df = df[~df['info'].isin(strings_to_remove)]\n",
        "    df = df.drop('info', axis=1)\n",
        "\n",
        "    # Add year column\n",
        "    df['year'] = '20{}'.format(name[1:])\n",
        "\n",
        "    # Reorder columns\n",
        "    leading_cols = ['tract', 'year']\n",
        "    df = df[leading_cols + [col for col in df.columns if col not in leading_cols]]\n",
        "\n",
        "    # Define the output filename - for exporting\n",
        "    output_filename = data_folder + f\"{name}_processed.csv\"\n",
        "\n",
        "    # Export the DataFrame to a CSV file\n",
        "    df.to_csv(output_filename, index=False)\n",
        "\n",
        "    print(f\"{name} has been exported to {output_filename}\")\n"
      ],
      "metadata": {
        "colab": {
          "base_uri": "https://localhost:8080/"
        },
        "id": "2GBIoQgRl__k",
        "outputId": "ec2a8018-d921-4012-8438-c8baf17f62fa"
      },
      "execution_count": null,
      "outputs": [
        {
          "output_type": "stream",
          "name": "stderr",
          "text": [
            "<ipython-input-22-64bf1fd9f852>:28: FutureWarning: In a future version of pandas all arguments of StringMethods.split except for the argument 'pat' will be keyword-only.\n",
            "  df[['tract', 'info']] = df['tract'].str.split(',', 1, expand=True)\n",
            "<ipython-input-22-64bf1fd9f852>:28: FutureWarning: In a future version of pandas all arguments of StringMethods.split except for the argument 'pat' will be keyword-only.\n",
            "  df[['tract', 'info']] = df['tract'].str.split(',', 1, expand=True)\n"
          ]
        },
        {
          "output_type": "stream",
          "name": "stdout",
          "text": [
            "p10 has been exported to /content/drive/MyDrive/DS701/p10_processed.csv\n",
            "p11 has been exported to /content/drive/MyDrive/DS701/p11_processed.csv\n"
          ]
        },
        {
          "output_type": "stream",
          "name": "stderr",
          "text": [
            "<ipython-input-22-64bf1fd9f852>:28: FutureWarning: In a future version of pandas all arguments of StringMethods.split except for the argument 'pat' will be keyword-only.\n",
            "  df[['tract', 'info']] = df['tract'].str.split(',', 1, expand=True)\n",
            "<ipython-input-22-64bf1fd9f852>:28: FutureWarning: In a future version of pandas all arguments of StringMethods.split except for the argument 'pat' will be keyword-only.\n",
            "  df[['tract', 'info']] = df['tract'].str.split(',', 1, expand=True)\n"
          ]
        },
        {
          "output_type": "stream",
          "name": "stdout",
          "text": [
            "p12 has been exported to /content/drive/MyDrive/DS701/p12_processed.csv\n",
            "p13 has been exported to /content/drive/MyDrive/DS701/p13_processed.csv\n"
          ]
        },
        {
          "output_type": "stream",
          "name": "stderr",
          "text": [
            "<ipython-input-22-64bf1fd9f852>:28: FutureWarning: In a future version of pandas all arguments of StringMethods.split except for the argument 'pat' will be keyword-only.\n",
            "  df[['tract', 'info']] = df['tract'].str.split(',', 1, expand=True)\n",
            "<ipython-input-22-64bf1fd9f852>:28: FutureWarning: In a future version of pandas all arguments of StringMethods.split except for the argument 'pat' will be keyword-only.\n",
            "  df[['tract', 'info']] = df['tract'].str.split(',', 1, expand=True)\n"
          ]
        },
        {
          "output_type": "stream",
          "name": "stdout",
          "text": [
            "p14 has been exported to /content/drive/MyDrive/DS701/p14_processed.csv\n",
            "p15 has been exported to /content/drive/MyDrive/DS701/p15_processed.csv\n"
          ]
        },
        {
          "output_type": "stream",
          "name": "stderr",
          "text": [
            "<ipython-input-22-64bf1fd9f852>:28: FutureWarning: In a future version of pandas all arguments of StringMethods.split except for the argument 'pat' will be keyword-only.\n",
            "  df[['tract', 'info']] = df['tract'].str.split(',', 1, expand=True)\n",
            "<ipython-input-22-64bf1fd9f852>:28: FutureWarning: In a future version of pandas all arguments of StringMethods.split except for the argument 'pat' will be keyword-only.\n",
            "  df[['tract', 'info']] = df['tract'].str.split(',', 1, expand=True)\n"
          ]
        },
        {
          "output_type": "stream",
          "name": "stdout",
          "text": [
            "p16 has been exported to /content/drive/MyDrive/DS701/p16_processed.csv\n",
            "p17 has been exported to /content/drive/MyDrive/DS701/p17_processed.csv\n"
          ]
        },
        {
          "output_type": "stream",
          "name": "stderr",
          "text": [
            "<ipython-input-22-64bf1fd9f852>:28: FutureWarning: In a future version of pandas all arguments of StringMethods.split except for the argument 'pat' will be keyword-only.\n",
            "  df[['tract', 'info']] = df['tract'].str.split(',', 1, expand=True)\n",
            "<ipython-input-22-64bf1fd9f852>:28: FutureWarning: In a future version of pandas all arguments of StringMethods.split except for the argument 'pat' will be keyword-only.\n",
            "  df[['tract', 'info']] = df['tract'].str.split(',', 1, expand=True)\n"
          ]
        },
        {
          "output_type": "stream",
          "name": "stdout",
          "text": [
            "p18 has been exported to /content/drive/MyDrive/DS701/p18_processed.csv\n",
            "p19 has been exported to /content/drive/MyDrive/DS701/p19_processed.csv\n"
          ]
        },
        {
          "output_type": "stream",
          "name": "stderr",
          "text": [
            "<ipython-input-22-64bf1fd9f852>:28: FutureWarning: In a future version of pandas all arguments of StringMethods.split except for the argument 'pat' will be keyword-only.\n",
            "  df[['tract', 'info']] = df['tract'].str.split(',', 1, expand=True)\n",
            "<ipython-input-22-64bf1fd9f852>:28: FutureWarning: In a future version of pandas all arguments of StringMethods.split except for the argument 'pat' will be keyword-only.\n",
            "  df[['tract', 'info']] = df['tract'].str.split(',', 1, expand=True)\n"
          ]
        },
        {
          "output_type": "stream",
          "name": "stdout",
          "text": [
            "p20 has been exported to /content/drive/MyDrive/DS701/p20_processed.csv\n",
            "p21 has been exported to /content/drive/MyDrive/DS701/p21_processed.csv\n"
          ]
        }
      ]
    },
    {
      "cell_type": "code",
      "source": [
        "import numpy as np\n",
        "\n",
        "csv_files = [\n",
        "    \"/content/drive/MyDrive/DS701/p10_processed.csv\",\n",
        "    \"/content/drive/MyDrive/DS701/p11_processed.csv\",\n",
        "    \"/content/drive/MyDrive/DS701/p12_processed.csv\",\n",
        "    \"/content/drive/MyDrive/DS701/p13_processed.csv\",\n",
        "    \"/content/drive/MyDrive/DS701/p14_processed.csv\",\n",
        "    \"/content/drive/MyDrive/DS701/p15_processed.csv\",\n",
        "    \"/content/drive/MyDrive/DS701/p16_processed.csv\",\n",
        "    \"/content/drive/MyDrive/DS701/p17_processed.csv\",\n",
        "    \"/content/drive/MyDrive/DS701/p18_processed.csv\",\n",
        "    \"/content/drive/MyDrive/DS701/p19_processed.csv\",\n",
        "    \"/content/drive/MyDrive/DS701/p20_processed.csv\",\n",
        "    \"/content/drive/MyDrive/DS701/p21_processed.csv\"\n",
        "]\n",
        "\n",
        "# Initialize an empty list to store the DataFrames\n",
        "data_frames = []\n",
        "\n",
        "# Read each CSV file into a DataFrame and store it in the data_frames list\n",
        "for csv_file in csv_files:\n",
        "    df = pd.read_csv(csv_file)\n",
        "    data_frames.append(df)\n",
        "\n",
        "# Concatenate the DataFrames into a single DataFrame\n",
        "propval_df = pd.concat(data_frames, ignore_index=True)\n",
        "\n",
        "# Remove '-', '(X)', and '4000+'\n",
        "propval_df = propval_df.replace('-', np.nan)\n",
        "propval_df = propval_df.replace('(X)', np.nan)\n",
        "propval_df = propval_df.replace('4000+', '4000')\n",
        "\n",
        "convert = {'median_value': float,\n",
        "           'median_monthly_mort': float,\n",
        "           'median_monthly_rent': float}\n",
        "\n",
        "propval_df = propval_df.astype(convert)\n",
        "\n",
        "# Display the concatenated DataFrame\n",
        "propval_df.head()"
      ],
      "metadata": {
        "colab": {
          "base_uri": "https://localhost:8080/",
          "height": 206
        },
        "id": "4KlLvumHmi6h",
        "outputId": "c8b94a12-f760-409f-b281-6b574d945bf9"
      },
      "execution_count": null,
      "outputs": [
        {
          "output_type": "execute_result",
          "data": {
            "text/plain": [
              "   tract  year  median_value  median_monthly_mort  median_monthly_rent\n",
              "0  708.0  2010      632600.0               3500.0                973.0\n",
              "1  709.0  2010      501600.0               2390.0                540.0\n",
              "2  801.0  2010      394400.0               2475.0                820.0\n",
              "3  803.0  2010      379200.0               1858.0                618.0\n",
              "4  805.0  2010      165100.0               1401.0                472.0"
            ],
            "text/html": [
              "\n",
              "  <div id=\"df-c36b7395-5001-482c-9704-07e8d6ab7107\" class=\"colab-df-container\">\n",
              "    <div>\n",
              "<style scoped>\n",
              "    .dataframe tbody tr th:only-of-type {\n",
              "        vertical-align: middle;\n",
              "    }\n",
              "\n",
              "    .dataframe tbody tr th {\n",
              "        vertical-align: top;\n",
              "    }\n",
              "\n",
              "    .dataframe thead th {\n",
              "        text-align: right;\n",
              "    }\n",
              "</style>\n",
              "<table border=\"1\" class=\"dataframe\">\n",
              "  <thead>\n",
              "    <tr style=\"text-align: right;\">\n",
              "      <th></th>\n",
              "      <th>tract</th>\n",
              "      <th>year</th>\n",
              "      <th>median_value</th>\n",
              "      <th>median_monthly_mort</th>\n",
              "      <th>median_monthly_rent</th>\n",
              "    </tr>\n",
              "  </thead>\n",
              "  <tbody>\n",
              "    <tr>\n",
              "      <th>0</th>\n",
              "      <td>708.0</td>\n",
              "      <td>2010</td>\n",
              "      <td>632600.0</td>\n",
              "      <td>3500.0</td>\n",
              "      <td>973.0</td>\n",
              "    </tr>\n",
              "    <tr>\n",
              "      <th>1</th>\n",
              "      <td>709.0</td>\n",
              "      <td>2010</td>\n",
              "      <td>501600.0</td>\n",
              "      <td>2390.0</td>\n",
              "      <td>540.0</td>\n",
              "    </tr>\n",
              "    <tr>\n",
              "      <th>2</th>\n",
              "      <td>801.0</td>\n",
              "      <td>2010</td>\n",
              "      <td>394400.0</td>\n",
              "      <td>2475.0</td>\n",
              "      <td>820.0</td>\n",
              "    </tr>\n",
              "    <tr>\n",
              "      <th>3</th>\n",
              "      <td>803.0</td>\n",
              "      <td>2010</td>\n",
              "      <td>379200.0</td>\n",
              "      <td>1858.0</td>\n",
              "      <td>618.0</td>\n",
              "    </tr>\n",
              "    <tr>\n",
              "      <th>4</th>\n",
              "      <td>805.0</td>\n",
              "      <td>2010</td>\n",
              "      <td>165100.0</td>\n",
              "      <td>1401.0</td>\n",
              "      <td>472.0</td>\n",
              "    </tr>\n",
              "  </tbody>\n",
              "</table>\n",
              "</div>\n",
              "    <div class=\"colab-df-buttons\">\n",
              "\n",
              "  <div class=\"colab-df-container\">\n",
              "    <button class=\"colab-df-convert\" onclick=\"convertToInteractive('df-c36b7395-5001-482c-9704-07e8d6ab7107')\"\n",
              "            title=\"Convert this dataframe to an interactive table.\"\n",
              "            style=\"display:none;\">\n",
              "\n",
              "  <svg xmlns=\"http://www.w3.org/2000/svg\" height=\"24px\" viewBox=\"0 -960 960 960\">\n",
              "    <path d=\"M120-120v-720h720v720H120Zm60-500h600v-160H180v160Zm220 220h160v-160H400v160Zm0 220h160v-160H400v160ZM180-400h160v-160H180v160Zm440 0h160v-160H620v160ZM180-180h160v-160H180v160Zm440 0h160v-160H620v160Z\"/>\n",
              "  </svg>\n",
              "    </button>\n",
              "\n",
              "  <style>\n",
              "    .colab-df-container {\n",
              "      display:flex;\n",
              "      gap: 12px;\n",
              "    }\n",
              "\n",
              "    .colab-df-convert {\n",
              "      background-color: #E8F0FE;\n",
              "      border: none;\n",
              "      border-radius: 50%;\n",
              "      cursor: pointer;\n",
              "      display: none;\n",
              "      fill: #1967D2;\n",
              "      height: 32px;\n",
              "      padding: 0 0 0 0;\n",
              "      width: 32px;\n",
              "    }\n",
              "\n",
              "    .colab-df-convert:hover {\n",
              "      background-color: #E2EBFA;\n",
              "      box-shadow: 0px 1px 2px rgba(60, 64, 67, 0.3), 0px 1px 3px 1px rgba(60, 64, 67, 0.15);\n",
              "      fill: #174EA6;\n",
              "    }\n",
              "\n",
              "    .colab-df-buttons div {\n",
              "      margin-bottom: 4px;\n",
              "    }\n",
              "\n",
              "    [theme=dark] .colab-df-convert {\n",
              "      background-color: #3B4455;\n",
              "      fill: #D2E3FC;\n",
              "    }\n",
              "\n",
              "    [theme=dark] .colab-df-convert:hover {\n",
              "      background-color: #434B5C;\n",
              "      box-shadow: 0px 1px 3px 1px rgba(0, 0, 0, 0.15);\n",
              "      filter: drop-shadow(0px 1px 2px rgba(0, 0, 0, 0.3));\n",
              "      fill: #FFFFFF;\n",
              "    }\n",
              "  </style>\n",
              "\n",
              "    <script>\n",
              "      const buttonEl =\n",
              "        document.querySelector('#df-c36b7395-5001-482c-9704-07e8d6ab7107 button.colab-df-convert');\n",
              "      buttonEl.style.display =\n",
              "        google.colab.kernel.accessAllowed ? 'block' : 'none';\n",
              "\n",
              "      async function convertToInteractive(key) {\n",
              "        const element = document.querySelector('#df-c36b7395-5001-482c-9704-07e8d6ab7107');\n",
              "        const dataTable =\n",
              "          await google.colab.kernel.invokeFunction('convertToInteractive',\n",
              "                                                    [key], {});\n",
              "        if (!dataTable) return;\n",
              "\n",
              "        const docLinkHtml = 'Like what you see? Visit the ' +\n",
              "          '<a target=\"_blank\" href=https://colab.research.google.com/notebooks/data_table.ipynb>data table notebook</a>'\n",
              "          + ' to learn more about interactive tables.';\n",
              "        element.innerHTML = '';\n",
              "        dataTable['output_type'] = 'display_data';\n",
              "        await google.colab.output.renderOutput(dataTable, element);\n",
              "        const docLink = document.createElement('div');\n",
              "        docLink.innerHTML = docLinkHtml;\n",
              "        element.appendChild(docLink);\n",
              "      }\n",
              "    </script>\n",
              "  </div>\n",
              "\n",
              "\n",
              "<div id=\"df-e89c6baa-9b51-4e92-b633-c06a847df37e\">\n",
              "  <button class=\"colab-df-quickchart\" onclick=\"quickchart('df-e89c6baa-9b51-4e92-b633-c06a847df37e')\"\n",
              "            title=\"Suggest charts.\"\n",
              "            style=\"display:none;\">\n",
              "\n",
              "<svg xmlns=\"http://www.w3.org/2000/svg\" height=\"24px\"viewBox=\"0 0 24 24\"\n",
              "     width=\"24px\">\n",
              "    <g>\n",
              "        <path d=\"M19 3H5c-1.1 0-2 .9-2 2v14c0 1.1.9 2 2 2h14c1.1 0 2-.9 2-2V5c0-1.1-.9-2-2-2zM9 17H7v-7h2v7zm4 0h-2V7h2v10zm4 0h-2v-4h2v4z\"/>\n",
              "    </g>\n",
              "</svg>\n",
              "  </button>\n",
              "\n",
              "<style>\n",
              "  .colab-df-quickchart {\n",
              "      --bg-color: #E8F0FE;\n",
              "      --fill-color: #1967D2;\n",
              "      --hover-bg-color: #E2EBFA;\n",
              "      --hover-fill-color: #174EA6;\n",
              "      --disabled-fill-color: #AAA;\n",
              "      --disabled-bg-color: #DDD;\n",
              "  }\n",
              "\n",
              "  [theme=dark] .colab-df-quickchart {\n",
              "      --bg-color: #3B4455;\n",
              "      --fill-color: #D2E3FC;\n",
              "      --hover-bg-color: #434B5C;\n",
              "      --hover-fill-color: #FFFFFF;\n",
              "      --disabled-bg-color: #3B4455;\n",
              "      --disabled-fill-color: #666;\n",
              "  }\n",
              "\n",
              "  .colab-df-quickchart {\n",
              "    background-color: var(--bg-color);\n",
              "    border: none;\n",
              "    border-radius: 50%;\n",
              "    cursor: pointer;\n",
              "    display: none;\n",
              "    fill: var(--fill-color);\n",
              "    height: 32px;\n",
              "    padding: 0;\n",
              "    width: 32px;\n",
              "  }\n",
              "\n",
              "  .colab-df-quickchart:hover {\n",
              "    background-color: var(--hover-bg-color);\n",
              "    box-shadow: 0 1px 2px rgba(60, 64, 67, 0.3), 0 1px 3px 1px rgba(60, 64, 67, 0.15);\n",
              "    fill: var(--button-hover-fill-color);\n",
              "  }\n",
              "\n",
              "  .colab-df-quickchart-complete:disabled,\n",
              "  .colab-df-quickchart-complete:disabled:hover {\n",
              "    background-color: var(--disabled-bg-color);\n",
              "    fill: var(--disabled-fill-color);\n",
              "    box-shadow: none;\n",
              "  }\n",
              "\n",
              "  .colab-df-spinner {\n",
              "    border: 2px solid var(--fill-color);\n",
              "    border-color: transparent;\n",
              "    border-bottom-color: var(--fill-color);\n",
              "    animation:\n",
              "      spin 1s steps(1) infinite;\n",
              "  }\n",
              "\n",
              "  @keyframes spin {\n",
              "    0% {\n",
              "      border-color: transparent;\n",
              "      border-bottom-color: var(--fill-color);\n",
              "      border-left-color: var(--fill-color);\n",
              "    }\n",
              "    20% {\n",
              "      border-color: transparent;\n",
              "      border-left-color: var(--fill-color);\n",
              "      border-top-color: var(--fill-color);\n",
              "    }\n",
              "    30% {\n",
              "      border-color: transparent;\n",
              "      border-left-color: var(--fill-color);\n",
              "      border-top-color: var(--fill-color);\n",
              "      border-right-color: var(--fill-color);\n",
              "    }\n",
              "    40% {\n",
              "      border-color: transparent;\n",
              "      border-right-color: var(--fill-color);\n",
              "      border-top-color: var(--fill-color);\n",
              "    }\n",
              "    60% {\n",
              "      border-color: transparent;\n",
              "      border-right-color: var(--fill-color);\n",
              "    }\n",
              "    80% {\n",
              "      border-color: transparent;\n",
              "      border-right-color: var(--fill-color);\n",
              "      border-bottom-color: var(--fill-color);\n",
              "    }\n",
              "    90% {\n",
              "      border-color: transparent;\n",
              "      border-bottom-color: var(--fill-color);\n",
              "    }\n",
              "  }\n",
              "</style>\n",
              "\n",
              "  <script>\n",
              "    async function quickchart(key) {\n",
              "      const quickchartButtonEl =\n",
              "        document.querySelector('#' + key + ' button');\n",
              "      quickchartButtonEl.disabled = true;  // To prevent multiple clicks.\n",
              "      quickchartButtonEl.classList.add('colab-df-spinner');\n",
              "      try {\n",
              "        const charts = await google.colab.kernel.invokeFunction(\n",
              "            'suggestCharts', [key], {});\n",
              "      } catch (error) {\n",
              "        console.error('Error during call to suggestCharts:', error);\n",
              "      }\n",
              "      quickchartButtonEl.classList.remove('colab-df-spinner');\n",
              "      quickchartButtonEl.classList.add('colab-df-quickchart-complete');\n",
              "    }\n",
              "    (() => {\n",
              "      let quickchartButtonEl =\n",
              "        document.querySelector('#df-e89c6baa-9b51-4e92-b633-c06a847df37e button');\n",
              "      quickchartButtonEl.style.display =\n",
              "        google.colab.kernel.accessAllowed ? 'block' : 'none';\n",
              "    })();\n",
              "  </script>\n",
              "</div>\n",
              "    </div>\n",
              "  </div>\n"
            ]
          },
          "metadata": {},
          "execution_count": 41
        }
      ]
    },
    {
      "cell_type": "code",
      "source": [
        "propval_df.info()"
      ],
      "metadata": {
        "colab": {
          "base_uri": "https://localhost:8080/"
        },
        "id": "vh1Ddr9zY0jK",
        "outputId": "cd64b3bf-3f4d-42aa-9865-c19d3ada8958"
      },
      "execution_count": null,
      "outputs": [
        {
          "output_type": "stream",
          "name": "stdout",
          "text": [
            "<class 'pandas.core.frame.DataFrame'>\n",
            "RangeIndex: 542 entries, 0 to 541\n",
            "Data columns (total 5 columns):\n",
            " #   Column               Non-Null Count  Dtype  \n",
            "---  ------               --------------  -----  \n",
            " 0   tract                542 non-null    float64\n",
            " 1   year                 542 non-null    int64  \n",
            " 2   median_value         523 non-null    float64\n",
            " 3   median_monthly_mort  513 non-null    float64\n",
            " 4   median_monthly_rent  540 non-null    float64\n",
            "dtypes: float64(4), int64(1)\n",
            "memory usage: 21.3 KB\n"
          ]
        }
      ]
    },
    {
      "cell_type": "code",
      "source": [
        "propval_df.to_csv(\"/content/drive/MyDrive/DS701/property_value.csv\", index=False)"
      ],
      "metadata": {
        "id": "b2gBYuoxrIH_"
      },
      "execution_count": null,
      "outputs": []
    },
    {
      "cell_type": "code",
      "source": [
        "propval_df.tract.value_counts()"
      ],
      "metadata": {
        "colab": {
          "base_uri": "https://localhost:8080/"
        },
        "id": "XbdT_543pPjN",
        "outputId": "8d6a54e4-ea12-429c-dcd2-66f90de3e6c7"
      },
      "execution_count": null,
      "outputs": [
        {
          "output_type": "execute_result",
          "data": {
            "text/plain": [
              "913.00     12\n",
              "920.00     12\n",
              "912.00     12\n",
              "1007.00    12\n",
              "914.00     12\n",
              "915.00     12\n",
              "916.00     12\n",
              "917.00     12\n",
              "918.00     12\n",
              "919.00     12\n",
              "921.01     12\n",
              "1006.03    12\n",
              "922.00     12\n",
              "923.00     12\n",
              "924.00     12\n",
              "1001.00    12\n",
              "1002.00    12\n",
              "1003.00    12\n",
              "1004.00    12\n",
              "1005.00    12\n",
              "911.00     12\n",
              "910.01     12\n",
              "909.01     12\n",
              "907.00     12\n",
              "801.00     12\n",
              "803.00     12\n",
              "805.00     12\n",
              "806.01     12\n",
              "1008.00    12\n",
              "814.00     12\n",
              "815.00     12\n",
              "817.00     12\n",
              "818.00     12\n",
              "819.00     12\n",
              "820.00     12\n",
              "821.00     12\n",
              "901.00     12\n",
              "902.00     12\n",
              "903.00     12\n",
              "904.00     12\n",
              "906.00     12\n",
              "1006.01    12\n",
              "708.00     10\n",
              "709.00     10\n",
              "813.00     10\n",
              "708.01      2\n",
              "709.01      2\n",
              "813.01      2\n",
              "813.02      2\n",
              "Name: tract, dtype: int64"
            ]
          },
          "metadata": {},
          "execution_count": 44
        }
      ]
    }
  ]
}