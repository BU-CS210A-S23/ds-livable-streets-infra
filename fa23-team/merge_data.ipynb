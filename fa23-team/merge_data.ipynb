{
 "cells": [
  {
   "cell_type": "code",
   "execution_count": 152,
   "metadata": {
    "collapsed": true
   },
   "outputs": [
    {
     "data": {
      "text/plain": "(578, 16)"
     },
     "execution_count": 152,
     "metadata": {},
     "output_type": "execute_result"
    }
   ],
   "source": [
    "import pandas as pd\n",
    "import numpy as np\n",
    "\n",
    "# Customize data folder\n",
    "data_folder = \"C:/Users/Alex H/OneDrive/Documents/BU Fall 2023/DS701/ds-livable-streets-infra/fa23-team/\"\n",
    "\n",
    "# Read demographic and property value data\n",
    "combined_demo_prop = pd.read_csv(data_folder + \"combined_add_jp.csv\", index_col=False)\n",
    "combined_demo_prop.shape"
   ]
  },
  {
   "cell_type": "code",
   "execution_count": 153,
   "outputs": [
    {
     "name": "stdout",
     "output_type": "stream",
     "text": [
      "52\n",
      "53\n"
     ]
    }
   ],
   "source": [
    "# Replace tract 813.01 with 804.01 in demographic and property value data\n",
    "combined_demo_prop = combined_demo_prop[combined_demo_prop.tract != 813.01]\n",
    "print(combined_demo_prop.tract.nunique())\n",
    "\n",
    "ct804 = pd.read_csv(data_folder + \"demo_804-01.csv\", index_col=False)\n",
    "combined_demo_prop = pd.concat([combined_demo_prop, ct804], ignore_index=True)\n",
    "print(combined_demo_prop.tract.nunique())"
   ],
   "metadata": {
    "collapsed": false
   }
  },
  {
   "cell_type": "code",
   "execution_count": 154,
   "outputs": [
    {
     "name": "stdout",
     "output_type": "stream",
     "text": [
      "<class 'pandas.core.frame.DataFrame'>\n",
      "RangeIndex: 654 entries, 0 to 653\n",
      "Data columns (total 18 columns):\n",
      " #   Column                                       Non-Null Count  Dtype  \n",
      "---  ------                                       --------------  -----  \n",
      " 0   Unnamed: 0                                   654 non-null    int64  \n",
      " 1   year                                         654 non-null    int64  \n",
      " 2   Median income (dollars)                      574 non-null    float64\n",
      " 3   Mean income (dollars)                        577 non-null    float64\n",
      " 4   median_income_difference                     524 non-null    float64\n",
      " 5   mean_income_difference                       528 non-null    float64\n",
      " 6   census_tract                                 654 non-null    float64\n",
      " 7   Total population in occupied housing units:  584 non-null    float64\n",
      " 8   Owner_occupied                               584 non-null    float64\n",
      " 9   Owner_occupied_Moved in 1999 or earlier      584 non-null    float64\n",
      " 10  Renter_occupied                              584 non-null    float64\n",
      " 11  Renter_occupied_Moved in 1999 or earlier     584 non-null    float64\n",
      " 12  percent_owners                               584 non-null    float64\n",
      " 13  percent_renters                              584 non-null    float64\n",
      " 14  percent_old_owners                           579 non-null    float64\n",
      " 15  percent_old_renters                          584 non-null    float64\n",
      " 16  renters_owners_ratio                         584 non-null    float64\n",
      " 17  old_renters_owners_ratio                     584 non-null    float64\n",
      "dtypes: float64(16), int64(2)\n",
      "memory usage: 92.1 KB\n"
     ]
    }
   ],
   "source": [
    "# Read income and home ownership data\n",
    "combined_income_owner = pd.read_csv(data_folder+\"income_houseownership.csv\", index_col=False)\n",
    "combined_income_owner.info()"
   ],
   "metadata": {
    "collapsed": false
   }
  },
  {
   "cell_type": "code",
   "execution_count": 155,
   "outputs": [],
   "source": [
    "# Drop unnecessary index column\n",
    "combined_income_owner = combined_income_owner.drop(\"Unnamed: 0\", axis=1)\n",
    "\n",
    "# Rename columns\n",
    "combined_income_owner.columns = [\"year\", \"median_income\", \"mean_income\", \"median_income_difference\", \"mean_income_difference\", \"tract\", \"housed_population\", \"owner_occupied\", \"owner_occupied_pre-2000\", \"renter_occupied\", \"renter_occupied_pre-2000\", \"percent_owners\", \"percent_renters\", \"percent_owners_pre-2000\", \"percent_renters_pre-2000\", \"renters_owners_ratio\", \"renters_owners_pre-2000_ratio\"]"
   ],
   "metadata": {
    "collapsed": false
   }
  },
  {
   "cell_type": "code",
   "execution_count": 178,
   "outputs": [
    {
     "name": "stdout",
     "output_type": "stream",
     "text": [
      "(588, 16)\n",
      "(654, 17)\n"
     ]
    }
   ],
   "source": [
    "print(combined_demo_prop.shape)\n",
    "print(combined_income_owner.shape)"
   ],
   "metadata": {
    "collapsed": false
   }
  },
  {
   "cell_type": "code",
   "execution_count": 156,
   "outputs": [],
   "source": [
    "# Make tract a string\n",
    "convert = {'tract': str}\n",
    "\n",
    "combined_demo_prop = combined_demo_prop.astype(convert)\n",
    "combined_income_owner = combined_income_owner.astype(convert)"
   ],
   "metadata": {
    "collapsed": false
   }
  },
  {
   "cell_type": "code",
   "execution_count": 157,
   "outputs": [
    {
     "data": {
      "text/plain": "(654, 31)"
     },
     "execution_count": 157,
     "metadata": {},
     "output_type": "execute_result"
    }
   ],
   "source": [
    "# Combine Census Data\n",
    "census = pd.merge(combined_demo_prop, combined_income_owner, on=[\"tract\", \"year\"], how=\"outer\")\n",
    "census = census.sort_values(['tract', 'year'])\n",
    "census.shape"
   ],
   "metadata": {
    "collapsed": false
   }
  },
  {
   "cell_type": "code",
   "execution_count": 158,
   "outputs": [],
   "source": [
    "# Remove trailing \".0\" in string tracts\n",
    "census.tract = census.tract.str.replace(r'\\.0$', '', regex=True)"
   ],
   "metadata": {
    "collapsed": false
   }
  },
  {
   "cell_type": "code",
   "execution_count": 159,
   "outputs": [],
   "source": [
    "# Generate lists of tracts in neighborhoods for later labeling\n",
    "dorchester = [\"901\", \"902\", \"903\", \"904\", \"906\", \"907\", \"909.01\",\n",
    "              \"910.01\", \"911\", \"912\", \"913\", \"914\", \"915\", \"916\",\n",
    "              \"917\", \"918\", \"919\", \"920\", \"921.01\", \"922\", \"923\",\n",
    "              \"924\", \"1001\", \"1002\", \"1003\", \"1004\", \"1005\", \"1006.01\",\n",
    "              \"1006.03\", \"1007\", \"1008\"]\n",
    "roxbury = [\"708\", \"708.01\", \"709\", \"709.01\", \"801\", \"803\", \"804.01\",\n",
    "           \"805\", \"806.01\", \"813\", \"813.02\", \"814\", \"815\", \"817\", \"818\",\n",
    "           \"819\", \"820\", \"821\"]\n",
    "jp = [\"1201.04\", \"1202.01\", \"1101.05\", \"1101.03\"]"
   ],
   "metadata": {
    "collapsed": false
   }
  },
  {
   "cell_type": "code",
   "execution_count": 179,
   "outputs": [
    {
     "data": {
      "text/plain": "53"
     },
     "execution_count": 179,
     "metadata": {},
     "output_type": "execute_result"
    }
   ],
   "source": [
    "len(dorchester) + len(roxbury) + len(jp)"
   ],
   "metadata": {
    "collapsed": false
   }
  },
  {
   "cell_type": "code",
   "execution_count": 160,
   "outputs": [],
   "source": [
    "# Clean bike data\n",
    "bike_data = pd.read_csv(data_folder + \"analysis/tracts_bike_data.csv\", index_col=False)\n",
    "bike_data = bike_data.drop(\"Unnamed: 0\", axis=1)\n",
    "bike_data = bike_data.astype(convert)"
   ],
   "metadata": {
    "collapsed": false
   }
  },
  {
   "cell_type": "code",
   "execution_count": 161,
   "outputs": [
    {
     "data": {
      "text/plain": "['1203.01',\n '711.01',\n '9803.0',\n '9811.0',\n '1009.0',\n '1011.01',\n '1011.02',\n '611.01',\n '9812.01']"
     },
     "execution_count": 161,
     "metadata": {},
     "output_type": "execute_result"
    }
   ],
   "source": [
    "# ID tracts in bike_data that are not in census\n",
    "rogue_tracts = [i for i in bike_data.tract.unique() if i not in combined_demo_prop.tract.unique()]\n",
    "rogue_tracts"
   ],
   "metadata": {
    "collapsed": false
   }
  },
  {
   "cell_type": "code",
   "execution_count": 162,
   "outputs": [
    {
     "data": {
      "text/plain": "46"
     },
     "execution_count": 162,
     "metadata": {},
     "output_type": "execute_result"
    }
   ],
   "source": [
    "bike_data = bike_data[~bike_data['tract'].isin(rogue_tracts)]\n",
    "bike_data.tract.nunique()"
   ],
   "metadata": {
    "collapsed": false
   }
  },
  {
   "cell_type": "code",
   "execution_count": 163,
   "outputs": [
    {
     "data": {
      "text/plain": "(753, 40)"
     },
     "execution_count": 163,
     "metadata": {},
     "output_type": "execute_result"
    }
   ],
   "source": [
    "# Merge census and bike data\n",
    "census_bike = pd.merge(census, bike_data, on=['tract', 'year'], how=\"outer\")\n",
    "\n",
    "census_bike.shape"
   ],
   "metadata": {
    "collapsed": false
   }
  },
  {
   "cell_type": "code",
   "execution_count": 164,
   "outputs": [
    {
     "data": {
      "text/plain": "     tract  year  total_population   male  female  median_age  race_white  \\\n0     1001  2010            5617.0  0.481   0.519        23.9       0.063   \n1     1001  2011            5657.0  0.480   0.520        24.5       0.109   \n2     1001  2012            6189.0  0.451   0.549        25.2       0.074   \n3     1001  2013            6295.0  0.433   0.567        27.3       0.112   \n4     1001  2014            6371.0  0.455   0.545        31.2       0.131   \n..     ...   ...               ...    ...     ...         ...         ...   \n748  923.0  2017               NaN    NaN     NaN         NaN         NaN   \n749  923.0  2020               NaN    NaN     NaN         NaN         NaN   \n750  924.0  2010               NaN    NaN     NaN         NaN         NaN   \n751  924.0  2012               NaN    NaN     NaN         NaN         NaN   \n752  924.0  2020               NaN    NaN     NaN         NaN         NaN   \n\n     race_black  race_ai_alaskan  race_asian  ...  \\\n0         0.638            0.012       0.018  ...   \n1         0.619            0.014       0.003  ...   \n2         0.701            0.004       0.015  ...   \n3         0.727            0.001       0.011  ...   \n4         0.750            0.001       0.018  ...   \n..          ...              ...         ...  ...   \n748         NaN              NaN         NaN  ...   \n749         NaN              NaN         NaN  ...   \n750         NaN              NaN         NaN  ...   \n751         NaN              NaN         NaN  ...   \n752         NaN              NaN         NaN  ...   \n\n     renters_owners_pre-2000_ratio  BFBL          BL  BLSL         SBL  \\\n0                         0.700662   NaN         NaN   NaN         NaN   \n1                         0.774003   NaN         NaN   NaN         NaN   \n2                         1.260708   NaN         NaN   NaN         NaN   \n3                         1.236902   NaN         NaN   NaN         NaN   \n4                         0.946850   NaN         NaN   NaN         NaN   \n..                             ...   ...         ...   ...         ...   \n748                            NaN   0.0    0.000000   0.0    0.000000   \n749                            NaN   0.0    0.000000   0.0    0.000000   \n750                            NaN   0.0  589.598126   0.0    0.000000   \n751                            NaN   0.0  440.510678   0.0    0.000000   \n752                            NaN   0.0    0.000000   0.0  170.836985   \n\n            SLM  SUP  total_built_all_lanes  cumulative_length       SLMTC  \n0           NaN  NaN                    NaN                NaN         NaN  \n1           NaN  NaN                    NaN                NaN         NaN  \n2           NaN  NaN                    NaN                NaN         NaN  \n3           NaN  NaN                    NaN                NaN         NaN  \n4           NaN  NaN                    NaN                NaN         NaN  \n..          ...  ...                    ...                ...         ...  \n748   86.543282  0.0              86.543282         681.940001    0.000000  \n749    0.000000  0.0               0.000000         681.940001  573.238812  \n750  164.430161  0.0             754.028287        1273.177398    0.000000  \n751  998.822231  0.0            1439.332909        2712.510306    0.000000  \n752    0.000000  0.0             170.836985        2883.347291    0.000000  \n\n[753 rows x 40 columns]",
      "text/html": "<div>\n<style scoped>\n    .dataframe tbody tr th:only-of-type {\n        vertical-align: middle;\n    }\n\n    .dataframe tbody tr th {\n        vertical-align: top;\n    }\n\n    .dataframe thead th {\n        text-align: right;\n    }\n</style>\n<table border=\"1\" class=\"dataframe\">\n  <thead>\n    <tr style=\"text-align: right;\">\n      <th></th>\n      <th>tract</th>\n      <th>year</th>\n      <th>total_population</th>\n      <th>male</th>\n      <th>female</th>\n      <th>median_age</th>\n      <th>race_white</th>\n      <th>race_black</th>\n      <th>race_ai_alaskan</th>\n      <th>race_asian</th>\n      <th>...</th>\n      <th>renters_owners_pre-2000_ratio</th>\n      <th>BFBL</th>\n      <th>BL</th>\n      <th>BLSL</th>\n      <th>SBL</th>\n      <th>SLM</th>\n      <th>SUP</th>\n      <th>total_built_all_lanes</th>\n      <th>cumulative_length</th>\n      <th>SLMTC</th>\n    </tr>\n  </thead>\n  <tbody>\n    <tr>\n      <th>0</th>\n      <td>1001</td>\n      <td>2010</td>\n      <td>5617.0</td>\n      <td>0.481</td>\n      <td>0.519</td>\n      <td>23.9</td>\n      <td>0.063</td>\n      <td>0.638</td>\n      <td>0.012</td>\n      <td>0.018</td>\n      <td>...</td>\n      <td>0.700662</td>\n      <td>NaN</td>\n      <td>NaN</td>\n      <td>NaN</td>\n      <td>NaN</td>\n      <td>NaN</td>\n      <td>NaN</td>\n      <td>NaN</td>\n      <td>NaN</td>\n      <td>NaN</td>\n    </tr>\n    <tr>\n      <th>1</th>\n      <td>1001</td>\n      <td>2011</td>\n      <td>5657.0</td>\n      <td>0.480</td>\n      <td>0.520</td>\n      <td>24.5</td>\n      <td>0.109</td>\n      <td>0.619</td>\n      <td>0.014</td>\n      <td>0.003</td>\n      <td>...</td>\n      <td>0.774003</td>\n      <td>NaN</td>\n      <td>NaN</td>\n      <td>NaN</td>\n      <td>NaN</td>\n      <td>NaN</td>\n      <td>NaN</td>\n      <td>NaN</td>\n      <td>NaN</td>\n      <td>NaN</td>\n    </tr>\n    <tr>\n      <th>2</th>\n      <td>1001</td>\n      <td>2012</td>\n      <td>6189.0</td>\n      <td>0.451</td>\n      <td>0.549</td>\n      <td>25.2</td>\n      <td>0.074</td>\n      <td>0.701</td>\n      <td>0.004</td>\n      <td>0.015</td>\n      <td>...</td>\n      <td>1.260708</td>\n      <td>NaN</td>\n      <td>NaN</td>\n      <td>NaN</td>\n      <td>NaN</td>\n      <td>NaN</td>\n      <td>NaN</td>\n      <td>NaN</td>\n      <td>NaN</td>\n      <td>NaN</td>\n    </tr>\n    <tr>\n      <th>3</th>\n      <td>1001</td>\n      <td>2013</td>\n      <td>6295.0</td>\n      <td>0.433</td>\n      <td>0.567</td>\n      <td>27.3</td>\n      <td>0.112</td>\n      <td>0.727</td>\n      <td>0.001</td>\n      <td>0.011</td>\n      <td>...</td>\n      <td>1.236902</td>\n      <td>NaN</td>\n      <td>NaN</td>\n      <td>NaN</td>\n      <td>NaN</td>\n      <td>NaN</td>\n      <td>NaN</td>\n      <td>NaN</td>\n      <td>NaN</td>\n      <td>NaN</td>\n    </tr>\n    <tr>\n      <th>4</th>\n      <td>1001</td>\n      <td>2014</td>\n      <td>6371.0</td>\n      <td>0.455</td>\n      <td>0.545</td>\n      <td>31.2</td>\n      <td>0.131</td>\n      <td>0.750</td>\n      <td>0.001</td>\n      <td>0.018</td>\n      <td>...</td>\n      <td>0.946850</td>\n      <td>NaN</td>\n      <td>NaN</td>\n      <td>NaN</td>\n      <td>NaN</td>\n      <td>NaN</td>\n      <td>NaN</td>\n      <td>NaN</td>\n      <td>NaN</td>\n      <td>NaN</td>\n    </tr>\n    <tr>\n      <th>...</th>\n      <td>...</td>\n      <td>...</td>\n      <td>...</td>\n      <td>...</td>\n      <td>...</td>\n      <td>...</td>\n      <td>...</td>\n      <td>...</td>\n      <td>...</td>\n      <td>...</td>\n      <td>...</td>\n      <td>...</td>\n      <td>...</td>\n      <td>...</td>\n      <td>...</td>\n      <td>...</td>\n      <td>...</td>\n      <td>...</td>\n      <td>...</td>\n      <td>...</td>\n      <td>...</td>\n    </tr>\n    <tr>\n      <th>748</th>\n      <td>923.0</td>\n      <td>2017</td>\n      <td>NaN</td>\n      <td>NaN</td>\n      <td>NaN</td>\n      <td>NaN</td>\n      <td>NaN</td>\n      <td>NaN</td>\n      <td>NaN</td>\n      <td>NaN</td>\n      <td>...</td>\n      <td>NaN</td>\n      <td>0.0</td>\n      <td>0.000000</td>\n      <td>0.0</td>\n      <td>0.000000</td>\n      <td>86.543282</td>\n      <td>0.0</td>\n      <td>86.543282</td>\n      <td>681.940001</td>\n      <td>0.000000</td>\n    </tr>\n    <tr>\n      <th>749</th>\n      <td>923.0</td>\n      <td>2020</td>\n      <td>NaN</td>\n      <td>NaN</td>\n      <td>NaN</td>\n      <td>NaN</td>\n      <td>NaN</td>\n      <td>NaN</td>\n      <td>NaN</td>\n      <td>NaN</td>\n      <td>...</td>\n      <td>NaN</td>\n      <td>0.0</td>\n      <td>0.000000</td>\n      <td>0.0</td>\n      <td>0.000000</td>\n      <td>0.000000</td>\n      <td>0.0</td>\n      <td>0.000000</td>\n      <td>681.940001</td>\n      <td>573.238812</td>\n    </tr>\n    <tr>\n      <th>750</th>\n      <td>924.0</td>\n      <td>2010</td>\n      <td>NaN</td>\n      <td>NaN</td>\n      <td>NaN</td>\n      <td>NaN</td>\n      <td>NaN</td>\n      <td>NaN</td>\n      <td>NaN</td>\n      <td>NaN</td>\n      <td>...</td>\n      <td>NaN</td>\n      <td>0.0</td>\n      <td>589.598126</td>\n      <td>0.0</td>\n      <td>0.000000</td>\n      <td>164.430161</td>\n      <td>0.0</td>\n      <td>754.028287</td>\n      <td>1273.177398</td>\n      <td>0.000000</td>\n    </tr>\n    <tr>\n      <th>751</th>\n      <td>924.0</td>\n      <td>2012</td>\n      <td>NaN</td>\n      <td>NaN</td>\n      <td>NaN</td>\n      <td>NaN</td>\n      <td>NaN</td>\n      <td>NaN</td>\n      <td>NaN</td>\n      <td>NaN</td>\n      <td>...</td>\n      <td>NaN</td>\n      <td>0.0</td>\n      <td>440.510678</td>\n      <td>0.0</td>\n      <td>0.000000</td>\n      <td>998.822231</td>\n      <td>0.0</td>\n      <td>1439.332909</td>\n      <td>2712.510306</td>\n      <td>0.000000</td>\n    </tr>\n    <tr>\n      <th>752</th>\n      <td>924.0</td>\n      <td>2020</td>\n      <td>NaN</td>\n      <td>NaN</td>\n      <td>NaN</td>\n      <td>NaN</td>\n      <td>NaN</td>\n      <td>NaN</td>\n      <td>NaN</td>\n      <td>NaN</td>\n      <td>...</td>\n      <td>NaN</td>\n      <td>0.0</td>\n      <td>0.000000</td>\n      <td>0.0</td>\n      <td>170.836985</td>\n      <td>0.000000</td>\n      <td>0.0</td>\n      <td>170.836985</td>\n      <td>2883.347291</td>\n      <td>0.000000</td>\n    </tr>\n  </tbody>\n</table>\n<p>753 rows × 40 columns</p>\n</div>"
     },
     "execution_count": 164,
     "metadata": {},
     "output_type": "execute_result"
    }
   ],
   "source": [
    "census_bike"
   ],
   "metadata": {
    "collapsed": false
   }
  },
  {
   "cell_type": "code",
   "execution_count": 165,
   "outputs": [
    {
     "name": "stdout",
     "output_type": "stream",
     "text": [
      "<class 'pandas.core.frame.DataFrame'>\n",
      "Int64Index: 753 entries, 0 to 752\n",
      "Data columns (total 40 columns):\n",
      " #   Column                         Non-Null Count  Dtype  \n",
      "---  ------                         --------------  -----  \n",
      " 0   tract                          753 non-null    object \n",
      " 1   year                           753 non-null    int64  \n",
      " 2   total_population               614 non-null    float64\n",
      " 3   male                           614 non-null    float64\n",
      " 4   female                         614 non-null    float64\n",
      " 5   median_age                     614 non-null    float64\n",
      " 6   race_white                     614 non-null    float64\n",
      " 7   race_black                     614 non-null    float64\n",
      " 8   race_ai_alaskan                614 non-null    float64\n",
      " 9   race_asian                     614 non-null    float64\n",
      " 10  race_hawaiian                  614 non-null    float64\n",
      " 11  race_other                     614 non-null    float64\n",
      " 12  race_hispanic                  614 non-null    float64\n",
      " 13  median_value                   583 non-null    float64\n",
      " 14  median_monthly_mort            575 non-null    float64\n",
      " 15  median_monthly_rent            600 non-null    float64\n",
      " 16  median_income                  574 non-null    float64\n",
      " 17  mean_income                    577 non-null    float64\n",
      " 18  median_income_difference       524 non-null    float64\n",
      " 19  mean_income_difference         528 non-null    float64\n",
      " 20  housed_population              584 non-null    float64\n",
      " 21  owner_occupied                 584 non-null    float64\n",
      " 22  owner_occupied_pre-2000        584 non-null    float64\n",
      " 23  renter_occupied                584 non-null    float64\n",
      " 24  renter_occupied_pre-2000       584 non-null    float64\n",
      " 25  percent_owners                 584 non-null    float64\n",
      " 26  percent_renters                584 non-null    float64\n",
      " 27  percent_owners_pre-2000        579 non-null    float64\n",
      " 28  percent_renters_pre-2000       584 non-null    float64\n",
      " 29  renters_owners_ratio           584 non-null    float64\n",
      " 30  renters_owners_pre-2000_ratio  584 non-null    float64\n",
      " 31  BFBL                           119 non-null    float64\n",
      " 32  BL                             119 non-null    float64\n",
      " 33  BLSL                           119 non-null    float64\n",
      " 34  SBL                            119 non-null    float64\n",
      " 35  SLM                            119 non-null    float64\n",
      " 36  SUP                            119 non-null    float64\n",
      " 37  total_built_all_lanes          119 non-null    float64\n",
      " 38  cumulative_length              119 non-null    float64\n",
      " 39  SLMTC                          77 non-null     float64\n",
      "dtypes: float64(38), int64(1), object(1)\n",
      "memory usage: 241.2+ KB\n"
     ]
    }
   ],
   "source": [
    "census_bike.info()"
   ],
   "metadata": {
    "collapsed": false
   }
  },
  {
   "cell_type": "code",
   "execution_count": 173,
   "outputs": [],
   "source": [
    "# Set neighborhood labels\n",
    "def set_neighborhood(tract):\n",
    "    if tract in dorchester:\n",
    "        return \"Dorchester\"\n",
    "    elif tract in roxbury:\n",
    "        return \"Roxbury\"\n",
    "    elif tract in jp:\n",
    "        return \"Jamaica Plain\"\n",
    "    else:\n",
    "        return ''\n",
    "\n",
    "census_bike['neighborhood'] = census_bike['tract'].apply(set_neighborhood)"
   ],
   "metadata": {
    "collapsed": false
   }
  },
  {
   "cell_type": "code",
   "execution_count": 175,
   "outputs": [],
   "source": [
    "# Save combined file\n",
    "census_bike.to_csv(data_folder + \"census_bike_merged.csv\", index=False)"
   ],
   "metadata": {
    "collapsed": false
   }
  }
 ],
 "metadata": {
  "kernelspec": {
   "display_name": "Python 3",
   "language": "python",
   "name": "python3"
  },
  "language_info": {
   "codemirror_mode": {
    "name": "ipython",
    "version": 2
   },
   "file_extension": ".py",
   "mimetype": "text/x-python",
   "name": "python",
   "nbconvert_exporter": "python",
   "pygments_lexer": "ipython2",
   "version": "2.7.6"
  }
 },
 "nbformat": 4,
 "nbformat_minor": 0
}
