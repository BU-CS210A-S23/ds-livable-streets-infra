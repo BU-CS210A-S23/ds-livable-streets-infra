{
 "cells": [
  {
   "cell_type": "code",
   "execution_count": 223,
   "metadata": {
    "collapsed": true
   },
   "outputs": [
    {
     "data": {
      "text/plain": "(564, 16)"
     },
     "execution_count": 223,
     "metadata": {},
     "output_type": "execute_result"
    }
   ],
   "source": [
    "import pandas as pd\n",
    "import numpy as np\n",
    "\n",
    "# Customize data folder\n",
    "data_folder = \"C:/Users/Alex H/OneDrive/Documents/BU Fall 2023/DS701/ds-livable-streets-infra/fa23-team/\"\n",
    "\n",
    "# Read demographic and property value data\n",
    "combined_demo_prop = pd.read_csv(data_folder + \"combined_demo_prop.csv\", index_col=False)\n",
    "combined_demo_prop.shape"
   ]
  },
  {
   "cell_type": "code",
   "execution_count": 224,
   "outputs": [
    {
     "data": {
      "text/plain": "801.00     12\n1002.00    12\n917.00     12\n918.00     12\n919.00     12\n920.00     12\n921.01     12\n922.00     12\n923.00     12\n924.00     12\n1001.00    12\n1003.00    12\n915.00     12\n1004.00    12\n1005.00    12\n1006.01    12\n1006.03    12\n1007.00    12\n1008.00    12\n1101.03    12\n1201.04    12\n1202.01    12\n916.00     12\n914.00     12\n803.00     12\n821.00     12\n805.00     12\n806.01     12\n813.00     12\n814.00     12\n815.00     12\n817.00     12\n818.00     12\n819.00     12\n820.00     12\n901.00     12\n913.00     12\n902.00     12\n903.00     12\n904.00     12\n906.00     12\n907.00     12\n909.01     12\n910.01     12\n911.00     12\n912.00     12\n804.01     12\nName: tract, dtype: int64"
     },
     "execution_count": 224,
     "metadata": {},
     "output_type": "execute_result"
    }
   ],
   "source": [
    "combined_demo_prop.tract.value_counts()"
   ],
   "metadata": {
    "collapsed": false
   }
  },
  {
   "cell_type": "code",
   "execution_count": 255,
   "outputs": [
    {
     "name": "stdout",
     "output_type": "stream",
     "text": [
      "<class 'pandas.core.frame.DataFrame'>\n",
      "RangeIndex: 606 entries, 0 to 605\n",
      "Data columns (total 17 columns):\n",
      " #   Column                                       Non-Null Count  Dtype  \n",
      "---  ------                                       --------------  -----  \n",
      " 0   year                                         606 non-null    int64  \n",
      " 1   Median income (dollars)                      574 non-null    float64\n",
      " 2   Mean income (dollars)                        577 non-null    float64\n",
      " 3   median_income_difference                     524 non-null    float64\n",
      " 4   mean_income_difference                       528 non-null    float64\n",
      " 5   census_tract                                 606 non-null    float64\n",
      " 6   Total population in occupied housing units:  584 non-null    float64\n",
      " 7   Owner_occupied                               584 non-null    float64\n",
      " 8   Owner_occupied_Moved in 1999 or earlier      584 non-null    float64\n",
      " 9   Renter_occupied                              584 non-null    float64\n",
      " 10  Renter_occupied_Moved in 1999 or earlier     584 non-null    float64\n",
      " 11  percent_owners                               584 non-null    float64\n",
      " 12  percent_renters                              584 non-null    float64\n",
      " 13  percent_old_owners                           579 non-null    float64\n",
      " 14  percent_old_renters                          584 non-null    float64\n",
      " 15  renters_owners_ratio                         584 non-null    float64\n",
      " 16  old_renters_owners_ratio                     584 non-null    float64\n",
      "dtypes: float64(16), int64(1)\n",
      "memory usage: 80.6 KB\n"
     ]
    }
   ],
   "source": [
    "# Read income and home ownership data\n",
    "combined_income_owner = pd.read_csv(data_folder+\"income_houseownership.csv\", index_col=False)\n",
    "combined_income_owner.info()"
   ],
   "metadata": {
    "collapsed": false
   }
  },
  {
   "cell_type": "code",
   "execution_count": 256,
   "outputs": [],
   "source": [
    "# Drop diff columns\n",
    "combined_income_owner.drop([\"median_income_difference\", \"mean_income_difference\"], axis=1,\n",
    "                           inplace=True)\n",
    "\n",
    "# Rename columns\n",
    "combined_income_owner.columns = [\"year\", \"median_income\", \"mean_income\", \"tract\", \"housed_population\", \"owner_occupied\", \"owner_occupied_pre-2000\", \"renter_occupied\", \"renter_occupied_pre-2000\", \"percent_owners\", \"percent_renters\", \"percent_owners_pre-2000\", \"percent_renters_pre-2000\", \"renters_owners_ratio\", \"renters_owners_pre-2000_ratio\"]\n",
    "\n",
    "# Reorder columns\n",
    "leading_cols = ['tract', 'year']\n",
    "combined_income_owner = combined_income_owner[leading_cols + [col for col in combined_income_owner.columns if col not in leading_cols]]"
   ],
   "metadata": {
    "collapsed": false
   }
  },
  {
   "cell_type": "code",
   "execution_count": 257,
   "outputs": [
    {
     "name": "stdout",
     "output_type": "stream",
     "text": [
      "(606, 15)\n"
     ]
    }
   ],
   "source": [
    "print(combined_income_owner.shape)"
   ],
   "metadata": {
    "collapsed": false
   }
  },
  {
   "cell_type": "code",
   "execution_count": 258,
   "outputs": [
    {
     "data": {
      "text/plain": "47"
     },
     "execution_count": 258,
     "metadata": {},
     "output_type": "execute_result"
    }
   ],
   "source": [
    "# Drop redundant tracts\n",
    "drop_tracts = [708.00, 708.01, 709.00, 709.01, 813.00, 1103.03]\n",
    "\n",
    "combined_income_owner = combined_income_owner[~combined_income_owner['tract'].isin(drop_tracts)]\n",
    "combined_income_owner.tract.nunique()"
   ],
   "metadata": {
    "collapsed": false
   }
  },
  {
   "cell_type": "code",
   "execution_count": 259,
   "outputs": [
    {
     "data": {
      "text/plain": "901.00     12\n814.00     12\n1006.03    12\n1007.00    12\n1008.00    12\n801.00     12\n803.00     12\n804.01     12\n805.00     12\n806.01     12\n813.00     12\n815.00     12\n1005.00    12\n817.00     12\n818.00     12\n819.00     12\n820.00     12\n821.00     12\n904.00     12\n906.00     12\n1101.03    12\n1201.04    12\n1006.01    12\n1004.00    12\n902.00     12\n916.00     12\n903.00     12\n907.00     12\n909.01     12\n910.01     12\n911.00     12\n912.00     12\n913.00     12\n914.00     12\n915.00     12\n917.00     12\n1003.00    12\n918.00     12\n919.00     12\n920.00     12\n921.01     12\n922.00     12\n923.00     12\n924.00     12\n1001.00    12\n1002.00    12\n1202.01    12\nName: tract, dtype: int64"
     },
     "execution_count": 259,
     "metadata": {},
     "output_type": "execute_result"
    }
   ],
   "source": [
    "# Revert to 2010 tract names\n",
    "combined_income_owner = combined_income_owner.replace(813.02, 813.00)\n",
    "combined_income_owner = combined_income_owner.replace(1101.05, 1101.03)\n",
    "\n",
    "combined_income_owner.tract.value_counts()"
   ],
   "metadata": {
    "collapsed": false
   }
  },
  {
   "cell_type": "code",
   "execution_count": 260,
   "outputs": [],
   "source": [
    "# Make tract a string\n",
    "combined_income_owner.tract = combined_income_owner.tract.astype(str)\n",
    "combined_demo_prop.tract = combined_demo_prop.tract.astype(str)"
   ],
   "metadata": {
    "collapsed": false
   }
  },
  {
   "cell_type": "code",
   "execution_count": 261,
   "outputs": [
    {
     "data": {
      "text/plain": "(564, 29)"
     },
     "execution_count": 261,
     "metadata": {},
     "output_type": "execute_result"
    }
   ],
   "source": [
    "# Combine Census Data\n",
    "census = pd.merge(combined_demo_prop, combined_income_owner, on=[\"tract\", \"year\"])\n",
    "census = census.sort_values(['tract', 'year'])\n",
    "census.shape"
   ],
   "metadata": {
    "collapsed": false
   }
  },
  {
   "cell_type": "code",
   "execution_count": 262,
   "outputs": [],
   "source": [
    "# Remove trailing \".0\" in string tracts\n",
    "census.tract = census.tract.str.replace(r'\\.0$', '', regex=True)"
   ],
   "metadata": {
    "collapsed": false
   }
  },
  {
   "cell_type": "code",
   "execution_count": 263,
   "outputs": [],
   "source": [
    "# Generate lists of tracts in neighborhoods for later labeling\n",
    "dorchester = [\"901\", \"902\", \"903\", \"904\", \"906\", \"907\", \"909.01\",\n",
    "              \"910.01\", \"911\", \"912\", \"913\", \"914\", \"915\", \"916\",\n",
    "              \"917\", \"918\", \"919\", \"920\", \"921.01\", \"922\", \"923\",\n",
    "              \"924\", \"1001\", \"1002\", \"1003\", \"1004\", \"1005\", \"1006.01\",\n",
    "              \"1006.03\", \"1007\", \"1008\"]\n",
    "roxbury = [\"801\", \"803\", \"804.01\", \"805\", \"806.01\", \"813\", \"814\",\n",
    "           \"815\", \"817\", \"818\", \"819\", \"820\", \"821\"]\n",
    "jp = [\"1201.04\", \"1202.01\", \"1101.03\"]"
   ],
   "metadata": {
    "collapsed": false
   }
  },
  {
   "cell_type": "code",
   "execution_count": 264,
   "outputs": [],
   "source": [
    "# # Check successful merge\n",
    "# census.to_csv(data_folder+\"census_test.csv\", index=False)"
   ],
   "metadata": {
    "collapsed": false
   }
  },
  {
   "cell_type": "code",
   "execution_count": 265,
   "outputs": [
    {
     "data": {
      "text/plain": "1001.00    15\n821.00     15\n902.00     15\n903.00     15\n904.00     15\n907.00     15\n909.01     15\n910.01     15\n911.00     15\n912.00     15\n913.00     15\n914.00     15\n915.00     15\n916.00     15\n917.00     15\n918.00     15\n919.00     15\n920.00     15\n921.01     15\n922.00     15\n923.00     15\n901.00     15\n820.00     15\n1002.00    15\n819.00     15\n1003.00    15\n1004.00    15\n1005.00    15\n1006.01    15\n1006.03    15\n1007.00    15\n1008.00    15\n1201.04    15\n1202.01    15\n709.00     15\n801.00     15\n803.00     15\n805.00     15\n806.01     15\n813.00     15\n814.00     15\n815.00     15\n817.00     15\n818.00     15\n924.00     15\nName: tract, dtype: int64"
     },
     "execution_count": 265,
     "metadata": {},
     "output_type": "execute_result"
    }
   ],
   "source": [
    "# Clean bike data\n",
    "bike_data = pd.read_csv(data_folder + \"analysis/roxbury_dorchester_bike_data.csv\", index_col=False)\n",
    "bike_data = bike_data.drop(\"Unnamed: 0\", axis=1)\n",
    "bike_data.tract.value_counts()"
   ],
   "metadata": {
    "collapsed": false
   }
  },
  {
   "cell_type": "code",
   "execution_count": 266,
   "outputs": [],
   "source": [
    "bike_data.tract = bike_data.tract.astype(str)\n",
    "bike_data.tract = bike_data.tract.str.replace(r'\\.0$', '', regex=True)"
   ],
   "metadata": {
    "collapsed": false
   }
  },
  {
   "cell_type": "code",
   "execution_count": 273,
   "outputs": [
    {
     "data": {
      "text/plain": "[]"
     },
     "execution_count": 273,
     "metadata": {},
     "output_type": "execute_result"
    }
   ],
   "source": [
    "# ID tracts in bike_data that are not in census\n",
    "rogue_tracts = [i for i in bike_data.tract.unique() if i not in census.tract.unique()]\n",
    "rogue_tracts"
   ],
   "metadata": {
    "collapsed": false
   }
  },
  {
   "cell_type": "code",
   "execution_count": 268,
   "outputs": [],
   "source": [
    "# Remove rogue tracts\n",
    "bike_data = bike_data[~bike_data['tract'].isin(rogue_tracts)]"
   ],
   "metadata": {
    "collapsed": false
   }
  },
  {
   "cell_type": "code",
   "execution_count": 269,
   "outputs": [
    {
     "data": {
      "text/plain": "(660, 11)"
     },
     "execution_count": 269,
     "metadata": {},
     "output_type": "execute_result"
    }
   ],
   "source": [
    "bike_data.shape"
   ],
   "metadata": {
    "collapsed": false
   }
  },
  {
   "cell_type": "code",
   "execution_count": 270,
   "outputs": [
    {
     "data": {
      "text/plain": "(696, 38)"
     },
     "execution_count": 270,
     "metadata": {},
     "output_type": "execute_result"
    }
   ],
   "source": [
    "# Merge census and bike data\n",
    "census_bike = pd.merge(census, bike_data, on=['tract', 'year'], how=\"outer\")\n",
    "\n",
    "census_bike.shape"
   ],
   "metadata": {
    "collapsed": false
   }
  },
  {
   "cell_type": "code",
   "execution_count": 271,
   "outputs": [],
   "source": [
    "# # Check successful merge\n",
    "# census_bike.to_csv(data_folder+\"census_bike_test.csv\", index=False)"
   ],
   "metadata": {
    "collapsed": false
   }
  },
  {
   "cell_type": "code",
   "execution_count": 274,
   "outputs": [
    {
     "name": "stdout",
     "output_type": "stream",
     "text": [
      "<class 'pandas.core.frame.DataFrame'>\n",
      "Int64Index: 696 entries, 0 to 695\n",
      "Data columns (total 38 columns):\n",
      " #   Column                         Non-Null Count  Dtype  \n",
      "---  ------                         --------------  -----  \n",
      " 0   tract                          696 non-null    object \n",
      " 1   year                           696 non-null    int64  \n",
      " 2   total_population               564 non-null    float64\n",
      " 3   male                           564 non-null    float64\n",
      " 4   female                         564 non-null    float64\n",
      " 5   median_age                     564 non-null    float64\n",
      " 6   race_white                     564 non-null    float64\n",
      " 7   race_black                     564 non-null    float64\n",
      " 8   race_ai_alaskan                564 non-null    float64\n",
      " 9   race_asian                     564 non-null    float64\n",
      " 10  race_hawaiian                  564 non-null    float64\n",
      " 11  race_other                     564 non-null    float64\n",
      " 12  race_hispanic                  564 non-null    float64\n",
      " 13  median_value                   547 non-null    float64\n",
      " 14  median_monthly_mort            539 non-null    float64\n",
      " 15  median_monthly_rent            563 non-null    float64\n",
      " 16  median_income                  554 non-null    float64\n",
      " 17  mean_income                    555 non-null    float64\n",
      " 18  housed_population              560 non-null    float64\n",
      " 19  owner_occupied                 560 non-null    float64\n",
      " 20  owner_occupied_pre-2000        560 non-null    float64\n",
      " 21  renter_occupied                560 non-null    float64\n",
      " 22  renter_occupied_pre-2000       560 non-null    float64\n",
      " 23  percent_owners                 560 non-null    float64\n",
      " 24  percent_renters                560 non-null    float64\n",
      " 25  percent_owners_pre-2000        555 non-null    float64\n",
      " 26  percent_renters_pre-2000       560 non-null    float64\n",
      " 27  renters_owners_ratio           560 non-null    float64\n",
      " 28  renters_owners_pre-2000_ratio  560 non-null    float64\n",
      " 29  BFBL                           660 non-null    float64\n",
      " 30  BL                             660 non-null    float64\n",
      " 31  BLSL                           660 non-null    float64\n",
      " 32  SBL                            660 non-null    float64\n",
      " 33  SLM                            660 non-null    float64\n",
      " 34  SLMTC                          660 non-null    float64\n",
      " 35  SUP                            660 non-null    float64\n",
      " 36  total_built_all_lanes          660 non-null    float64\n",
      " 37  cumulative_length              660 non-null    float64\n",
      "dtypes: float64(36), int64(1), object(1)\n",
      "memory usage: 212.1+ KB\n"
     ]
    }
   ],
   "source": [
    "census_bike.info()"
   ],
   "metadata": {
    "collapsed": false
   }
  },
  {
   "cell_type": "code",
   "execution_count": 275,
   "outputs": [],
   "source": [
    "# Set neighborhood labels\n",
    "def set_neighborhood(tract):\n",
    "    if tract in dorchester:\n",
    "        return \"Dorchester\"\n",
    "    elif tract in roxbury:\n",
    "        return \"Roxbury\"\n",
    "    elif tract in jp:\n",
    "        return \"Jamaica Plain\"\n",
    "    else:\n",
    "        return ''\n",
    "\n",
    "census_bike['neighborhood'] = census_bike['tract'].apply(set_neighborhood)"
   ],
   "metadata": {
    "collapsed": false
   }
  },
  {
   "cell_type": "code",
   "execution_count": 277,
   "outputs": [],
   "source": [
    "# Reorder columns\n",
    "leading_cols = ['tract', 'year', 'neighborhood']\n",
    "census_bike = census_bike[leading_cols + [col for col in census_bike.columns if col not in leading_cols]]"
   ],
   "metadata": {
    "collapsed": false
   }
  },
  {
   "cell_type": "code",
   "execution_count": 278,
   "outputs": [],
   "source": [
    "# Save combined file\n",
    "census_bike.to_csv(data_folder + \"census_bike_merged.csv\", index=False)"
   ],
   "metadata": {
    "collapsed": false
   }
  }
 ],
 "metadata": {
  "kernelspec": {
   "display_name": "Python 3",
   "language": "python",
   "name": "python3"
  },
  "language_info": {
   "codemirror_mode": {
    "name": "ipython",
    "version": 2
   },
   "file_extension": ".py",
   "mimetype": "text/x-python",
   "name": "python",
   "nbconvert_exporter": "python",
   "pygments_lexer": "ipython2",
   "version": "2.7.6"
  }
 },
 "nbformat": 4,
 "nbformat_minor": 0
}
