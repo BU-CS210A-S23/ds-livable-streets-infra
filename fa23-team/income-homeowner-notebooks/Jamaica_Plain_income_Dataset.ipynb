{
  "nbformat": 4,
  "nbformat_minor": 0,
  "metadata": {
    "colab": {
      "provenance": []
    },
    "kernelspec": {
      "name": "python3",
      "display_name": "Python 3"
    },
    "language_info": {
      "name": "python"
    }
  },
  "cells": [
    {
      "cell_type": "code",
      "execution_count": null,
      "metadata": {
        "id": "UnfeJT233GTV"
      },
      "outputs": [],
      "source": [
        "import pandas as pd\n",
        "import matplotlib.pyplot as plt\n",
        "import matplotlib as mpl\n",
        "import networkx as nx\n",
        "import csv\n",
        "import numpy as np\n",
        "import sklearn\n",
        "import seaborn as sns"
      ]
    },
    {
      "cell_type": "code",
      "source": [
        "from google.colab import drive\n",
        "drive.mount('/content/drive')"
      ],
      "metadata": {
        "colab": {
          "base_uri": "https://localhost:8080/"
        },
        "id": "F_sALfNX44YI",
        "outputId": "e815a639-a0e6-492e-d1fe-57aec530fc42"
      },
      "execution_count": null,
      "outputs": [
        {
          "output_type": "stream",
          "name": "stdout",
          "text": [
            "Mounted at /content/drive\n"
          ]
        }
      ]
    },
    {
      "cell_type": "markdown",
      "source": [
        "##Cleaning and Processing"
      ],
      "metadata": {
        "id": "AS2qDfwL_11R"
      }
    },
    {
      "cell_type": "code",
      "source": [
        "years = [year for year in range(2021, 2009, -1)]\n",
        "years"
      ],
      "metadata": {
        "colab": {
          "base_uri": "https://localhost:8080/"
        },
        "id": "HcSnm5e2zvPU",
        "outputId": "0be2ddc6-b49a-48b2-e26e-ca664fa63481"
      },
      "execution_count": null,
      "outputs": [
        {
          "output_type": "execute_result",
          "data": {
            "text/plain": [
              "[2021, 2020, 2019, 2018, 2017, 2016, 2015, 2014, 2013, 2012, 2011, 2010]"
            ]
          },
          "metadata": {},
          "execution_count": 4
        }
      ]
    },
    {
      "cell_type": "code",
      "source": [
        "from re import I\n",
        "def process_excel_file(year, excel_path, list_index):\n",
        "    df = pd.read_excel(excel_path, sheet_name=1, header=None)\n",
        "\n",
        "    header = df.iloc[0:3].apply(lambda x: '_'.join(x.astype(str)), axis=0)\n",
        "    df.columns = header\n",
        "    df = df[3:]\n",
        "\n",
        "    df = df.set_index(df.columns[0])\n",
        "    df = df.transpose()\n",
        "\n",
        "    df = df[df.reset_index().index % 2 == 0]\n",
        "\n",
        "    # Calculate the starting and ending row indices based on the list_index\n",
        "    start_row = list_index * 4\n",
        "    end_row = (list_index + 1) * 4\n",
        "\n",
        "    new_df = df.iloc[start_row:end_row].copy()\n",
        "    new_df.insert(0, 'year', year)\n",
        "    new_df = new_df.reset_index()\n",
        "\n",
        "    if isinstance(new_df.iat[0, 0], str) and len(new_df.iat[0, 0]) > 23:\n",
        "        new_df.iat[0, 0] = new_df.iat[0, 0][-23:]\n",
        "\n",
        "    new_df = new_df.rename(columns={'index': 'estimate_type'})\n",
        "    new_df['estimate_type'] = new_df['estimate_type'].str[4:]\n",
        "    new_df['Total'] = pd.to_numeric(new_df['Total'].str.replace(',', ''), errors='coerce').astype(float)\n",
        "\n",
        "    return new_df\n"
      ],
      "metadata": {
        "id": "qZuUFqwxyXas"
      },
      "execution_count": null,
      "outputs": []
    },
    {
      "cell_type": "code",
      "source": [
        "list_of_indices = ['1101.05', '1201.04', '1202.01']\n",
        "\n",
        "\n",
        "\n",
        "  #['70801', '70901', '801', '803', '80401', '805', '80601',\n",
        "                   #'81302', '814', '815', '817', '818', '819', '820', '821', '904','906', '9803']\n"
      ],
      "metadata": {
        "id": "meYRQsGJyDYU"
      },
      "execution_count": null,
      "outputs": []
    },
    {
      "cell_type": "code",
      "source": [
        "len(list_of_indices)"
      ],
      "metadata": {
        "colab": {
          "base_uri": "https://localhost:8080/"
        },
        "id": "fghh_AJKrIex",
        "outputId": "2d8f14e8-83bb-41fc-d7d8-5fddfb2b37ab"
      },
      "execution_count": null,
      "outputs": [
        {
          "output_type": "execute_result",
          "data": {
            "text/plain": [
              "3"
            ]
          },
          "metadata": {},
          "execution_count": 7
        }
      ]
    },
    {
      "cell_type": "code",
      "source": [
        "#this loop makes use of the function process_excel_file() to make different years of dataframe for each census tract\n",
        "for index in list_of_indices:\n",
        "    for year in years:\n",
        "        excel_file_path = f'/content/drive/MyDrive/DS project/Jamaica_Plain_income/ACSST5Y{year}.xlsx'\n",
        "        variable_name = f'ct{index}_{year}'\n",
        "\n",
        "        # Determine the list_index based on the current index\n",
        "        list_index = list_of_indices.index(index)\n",
        "\n",
        "        # Call the function and assign the result to the variable\n",
        "        globals()[variable_name] = process_excel_file(year, excel_file_path, list_index)\n"
      ],
      "metadata": {
        "id": "hWWO-t4Vx7yI"
      },
      "execution_count": null,
      "outputs": []
    },
    {
      "cell_type": "code",
      "source": [
        "#this for loop generates the concated dataframe\n",
        "\n",
        "for index in list_of_indices:\n",
        "    concatenated_dfs = [globals()[f'ct{index}_2021']]  # Start with the 2021 DataFrame\n",
        "\n",
        "    for year in years[1:]:\n",
        "        variable_name = f'ct{index}_{year}'\n",
        "        if not globals()[variable_name].empty:\n",
        "            concatenated_dfs.append(globals()[variable_name])\n",
        "\n",
        "    # Concatenate all DataFrames for the current index\n",
        "    globals()[f'ct{index}'] = pd.concat(concatenated_dfs, ignore_index=True)"
      ],
      "metadata": {
        "id": "VlErjPq32USU"
      },
      "execution_count": null,
      "outputs": []
    },
    {
      "cell_type": "code",
      "source": [
        "def convert_percentage_to_float_with_symbol(percentage_str):\n",
        "    if isinstance(percentage_str, str):\n",
        "        cleaned_str = percentage_str.replace('%', '').replace('-', '')\n",
        "        try:\n",
        "            return float(cleaned_str) / 100.0\n",
        "        except ValueError:\n",
        "            # Handle cases where the cleaned string couldn't be converted to float\n",
        "            return None\n",
        "    else:\n",
        "        return percentage_str\n",
        "\n",
        "\n",
        "def convert_column_to_float(df):\n",
        "  columns_to_convert = df.columns[3:13]\n",
        "\n",
        "  for col in columns_to_convert:\n",
        "    df[col] = df[col].apply(convert_percentage_to_float_with_symbol)\n",
        "    df[col] = df[col] * df['Total']\n",
        "  # Convert the selected columns to float64\n",
        "  #df[columns_to_convert] = df[columns_to_convert].astype(float)\n",
        "  return df"
      ],
      "metadata": {
        "id": "nhrITefTDj8V"
      },
      "execution_count": null,
      "outputs": []
    },
    {
      "cell_type": "code",
      "source": [
        "#processing the concated dataframe, (strip%and, mutliplied by total)\n",
        "for index in list_of_indices:\n",
        "  dataframe_name = f'ct{index}'\n",
        "  globals()[dataframe_name]  = convert_column_to_float(globals()[dataframe_name])\n"
      ],
      "metadata": {
        "id": "6nWkIgcOE44a"
      },
      "execution_count": null,
      "outputs": []
    },
    {
      "cell_type": "code",
      "source": [
        "for index in list_of_indices:\n",
        "  dataframe_name = f'ct{index}'\n",
        "  globals()[dataframe_name]  = globals()[dataframe_name][globals()[dataframe_name]['estimate_type']=='Households_Estimate']"
      ],
      "metadata": {
        "id": "iIg7M9KSFY52"
      },
      "execution_count": null,
      "outputs": []
    },
    {
      "cell_type": "code",
      "source": [
        "#calculating income difference\n",
        "for index in list_of_indices:\n",
        "    df = f'ct{index}'\n",
        "\n",
        "    # Clean the 'Median income (dollars)' column by removing commas and dashes\n",
        "    globals()[df]['Median income (dollars)'] = globals()[df]['Median income (dollars)'].str.replace(',', '').str.replace('-', '')\n",
        "    # Clean the 'Mean income..\n",
        "    globals()[df]['Mean income (dollars)'] = globals()[df]['Mean income (dollars)'].str.replace(',', '').str.replace('-', '')\n",
        "\n",
        "    # Convert the cleaned column to float, handling non-numeric values\n",
        "    def convert_to_float(value):\n",
        "        try:\n",
        "            return float(value)\n",
        "        except (ValueError, TypeError):\n",
        "            return None\n",
        "\n",
        "    globals()[df]['Median income (dollars)'] = globals()[df]['Median income (dollars)'].apply(convert_to_float)\n",
        "    globals()[df]['Mean income (dollars)'] = globals()[df]['Mean income (dollars)'].apply(convert_to_float)\n",
        "\n",
        "    # Calculate the 'median_income_difference' column\n",
        "    globals()[df]['median_income_difference'] = ((globals()[df]['Median income (dollars)'] - globals()[df]['Median income (dollars)'].shift(-1)) / globals()[df]['Median income (dollars)'].shift(-1))\n",
        "    globals()[df]['mean_income_difference'] = ((globals()[df]['Mean income (dollars)'] - globals()[df]['Mean income (dollars)'].shift(-1)) / globals()[df]['Mean income (dollars)'].shift(-1))\n",
        "\n"
      ],
      "metadata": {
        "id": "6cP2hB1wKjp7"
      },
      "execution_count": null,
      "outputs": []
    },
    {
      "cell_type": "code",
      "source": [
        "# adding census tract identifier column\n",
        "for index in list_of_indices:\n",
        "  dataframe_name = f'ct{index}'\n",
        "  globals()[dataframe_name]['census_tract']  = index"
      ],
      "metadata": {
        "id": "eGoQ2ZHQLUck"
      },
      "execution_count": null,
      "outputs": []
    },
    {
      "cell_type": "code",
      "source": [
        "\n",
        "list_of_indices\n",
        "# Create a list of DataFrames\n",
        "concatenated_df = [globals()[f'ct{index}'] for index in list_of_indices]\n",
        "\n",
        "# Initialize an empty DataFrame to store the concatenated result\n",
        "Jamaica_Plain_income = pd.DataFrame()\n",
        "\n",
        "# Concatenate the DataFrames in the list\n",
        "for df in concatenated_df:\n",
        "    Jamaica_Plain_income = pd.concat([Jamaica_Plain_income, df], ignore_index=True)"
      ],
      "metadata": {
        "id": "MOdXhbyior5v"
      },
      "execution_count": null,
      "outputs": []
    },
    {
      "cell_type": "code",
      "source": [
        "Jamaica_Plain_income.columns"
      ],
      "metadata": {
        "colab": {
          "base_uri": "https://localhost:8080/"
        },
        "id": "7oJMN-PQTKNd",
        "outputId": "12313f9c-307d-4e3f-9297-bea78eba3f2f"
      },
      "execution_count": null,
      "outputs": [
        {
          "output_type": "execute_result",
          "data": {
            "text/plain": [
              "Index(['estimate_type', 'year', 'Total', 'Less than $10,000',\n",
              "       '$10,000 to $14,999', '$15,000 to $24,999', '$25,000 to $34,999',\n",
              "       '$35,000 to $49,999', '$50,000 to $74,999', '$75,000 to $99,999',\n",
              "       '$100,000 to $149,999', '$150,000 to $199,999', '$200,000 or more',\n",
              "       'Median income (dollars)', 'Mean income (dollars)', 'PERCENT ALLOCATED',\n",
              "       'Household income in the past 12 months',\n",
              "       'Family income in the past 12 months',\n",
              "       'Nonfamily income in the past 12 months', 'PERCENT IMPUTED',\n",
              "       'median_income_difference', 'mean_income_difference', 'census_tract'],\n",
              "      dtype='object', name='nan_nan_Label')"
            ]
          },
          "metadata": {},
          "execution_count": 16
        }
      ]
    },
    {
      "cell_type": "code",
      "source": [
        "income_JamaicaPlain_result_df = Jamaica_Plain_income[['year', 'Median income (dollars)', 'Mean income (dollars)','median_income_difference',\n",
        "                                                 'mean_income_difference', 'census_tract']]\n",
        "\n",
        "\n",
        "income_JamaicaPlain_result_df = income_JamaicaPlain_result_df.reset_index(drop=True)\n"
      ],
      "metadata": {
        "id": "pFQ0SN-dTFN6"
      },
      "execution_count": null,
      "outputs": []
    },
    {
      "cell_type": "code",
      "source": [
        "income_JamaicaPlain_result_df['census_tract'] = income_JamaicaPlain_result_df['census_tract'].astype('float64')"
      ],
      "metadata": {
        "id": "DlSgTq1FT5fl"
      },
      "execution_count": null,
      "outputs": []
    },
    {
      "cell_type": "code",
      "source": [
        "income_JamaicaPlain_result_df.info()"
      ],
      "metadata": {
        "colab": {
          "base_uri": "https://localhost:8080/"
        },
        "id": "30atZPhHlfLr",
        "outputId": "e3204d2f-7010-4d14-f38e-6fb480e926ea"
      },
      "execution_count": null,
      "outputs": [
        {
          "output_type": "stream",
          "name": "stdout",
          "text": [
            "<class 'pandas.core.frame.DataFrame'>\n",
            "RangeIndex: 36 entries, 0 to 35\n",
            "Data columns (total 6 columns):\n",
            " #   Column                    Non-Null Count  Dtype  \n",
            "---  ------                    --------------  -----  \n",
            " 0   year                      36 non-null     int64  \n",
            " 1   Median income (dollars)   36 non-null     float64\n",
            " 2   Mean income (dollars)     36 non-null     float64\n",
            " 3   median_income_difference  33 non-null     float64\n",
            " 4   mean_income_difference    33 non-null     float64\n",
            " 5   census_tract              36 non-null     float64\n",
            "dtypes: float64(5), int64(1)\n",
            "memory usage: 1.8 KB\n"
          ]
        }
      ]
    },
    {
      "cell_type": "code",
      "source": [
        "income_JamaicaPlain_result_df.to_csv('/content/drive/MyDrive/DS project/Jamaica_Plain_income/Jamaica_Plain_income.csv')"
      ],
      "metadata": {
        "id": "cxvO35rTqIAk"
      },
      "execution_count": null,
      "outputs": []
    }
  ]
}