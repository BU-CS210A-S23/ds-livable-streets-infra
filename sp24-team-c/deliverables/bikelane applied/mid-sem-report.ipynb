{
 "cells": [
  {
   "cell_type": "markdown",
   "metadata": {},
   "source": [
    "First, we will take the BikeLane GeoJSON (2023) and grab the coordinates of each bike lane in the dataset. "
   ]
  },
  {
   "cell_type": "code",
   "execution_count": 16,
   "metadata": {},
   "outputs": [
    {
     "name": "stdout",
     "output_type": "stream",
     "text": [
      "-71.1682816897115\n"
     ]
    }
   ],
   "source": [
    "import geopandas as gpd\n",
    "\n",
    "df = gpd.read_file('Existing_Bike_Network_2023.geojson')\n",
    "# print(df.geometry.iloc[0].coords[0][0])"
   ]
  },
  {
   "cell_type": "markdown",
   "metadata": {},
   "source": [
    "Then, we will call the GeoCoder API from the US Government to determine which Census Tract each bike lane segment belongs to."
   ]
  },
  {
   "cell_type": "code",
   "execution_count": 17,
   "metadata": {},
   "outputs": [
    {
     "name": "stdout",
     "output_type": "stream",
     "text": [
      "Census Tract: 1301.01\n"
     ]
    }
   ],
   "source": [
    "import requests\n",
    "\n",
    "def get_census_tract(lat, long):\n",
    "    url = f'https://geocoding.geo.census.gov/geocoder/geographies/coordinates?x={lat}&y={long}&benchmark=Public_AR_Census2020&vintage=Census2020_Census2020&format=json'\n",
    "    response = requests.get(url)\n",
    "    data = response.json()\n",
    "    \n",
    "    census_tract = data['result']['geographies']['Census Tracts'][0]['BASENAME']\n",
    "    return census_tract\n",
    "\n",
    "latitude = df.geometry.iloc[0].coords[0][0]\n",
    "longitude = df.geometry.iloc[0].coords[0][1]\n",
    "\n",
    "census_tract = get_census_tract(latitude, longitude)\n",
    "print(\"Census Tract:\", census_tract)"
   ]
  }
 ],
 "metadata": {
  "kernelspec": {
   "display_name": "Python 3",
   "language": "python",
   "name": "python3"
  },
  "language_info": {
   "codemirror_mode": {
    "name": "ipython",
    "version": 3
   },
   "file_extension": ".py",
   "mimetype": "text/x-python",
   "name": "python",
   "nbconvert_exporter": "python",
   "pygments_lexer": "ipython3",
   "version": "3.10.11"
  }
 },
 "nbformat": 4,
 "nbformat_minor": 2
}
