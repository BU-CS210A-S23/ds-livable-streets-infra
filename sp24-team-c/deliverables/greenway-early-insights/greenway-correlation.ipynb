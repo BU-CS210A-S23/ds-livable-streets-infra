{
 "cells": [
  {
   "cell_type": "markdown",
   "metadata": {},
   "source": [
    "East Boston Greenway\n",
    "\n",
    "Census Tracts: \n",
    "\n",
    "Suffolk: 504, 505, 506, 507"
   ]
  },
  {
   "cell_type": "markdown",
   "metadata": {},
   "source": [
    "Rose Fitzgerald Kennedy Greenway\n",
    "\n",
    "Census Tracts:\n",
    "\n",
    "Suffolk: 301.01, 304, 303.02, 701.04"
   ]
  },
  {
   "cell_type": "markdown",
   "metadata": {},
   "source": [
    "Boston Riverway\n",
    "\n",
    "Census Tracts: \n",
    "\n",
    "Suffolk: 102.04, 102.05, 102.06, 103, 104.08\n",
    "Norfolk: 4001"
   ]
  },
  {
   "cell_type": "markdown",
   "metadata": {},
   "source": [
    "Map for viewing Boston census tracts:\n",
    "\n",
    "Suffolk: https://www2.census.gov/geo/maps/DC2020/PL20/st25_ma/censustract_maps/c25025_suffolk/DC20CT_C25025.pdf\n",
    "\n",
    "Norfolk: https://www2.census.gov/geo/maps/DC2020/PL20/st25_ma/censustract_maps/c25021_norfolk/DC20CT_C25021.pdf\n",
    "\n",
    "Categories\n",
    "- Demographics (race, age, sex, income)\n",
    "- Property value\n",
    "- Homeownership"
   ]
  }
 ],
 "metadata": {
  "kernelspec": {
   "display_name": "Python 3 (ipykernel)",
   "language": "python",
   "name": "python3"
  },
  "language_info": {
   "codemirror_mode": {
    "name": "ipython",
    "version": 3
   },
   "file_extension": ".py",
   "mimetype": "text/x-python",
   "name": "python",
   "nbconvert_exporter": "python",
   "pygments_lexer": "ipython3",
   "version": "3.10.1"
  }
 },
 "nbformat": 4,
 "nbformat_minor": 4
}
